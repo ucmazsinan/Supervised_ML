{
  "cells":[
    {
      "cell_type":"markdown",
      "source":[
        "## Introduction\n",
        "\n",
        "We will be working with a data set based on [housing prices in Ames, Iowa](https:\/\/www.kaggle.com\/c\/house-prices-advanced-regression-techniques). It was compiled for educational use to be a modernized and expanded alternative to the well-known Boston Housing dataset. This version of the data set has had some missing values filled for convenience.\n",
        "\n",
        "There are an extensive number of features, so they've been described in the table below.\n",
        "\n",
        "### Predictor\n",
        "\n",
        "* SalePrice: The property's sale price in dollars. \n",
        "\n",
        "### Features\n",
        "\n",
        "* MoSold: Month Sold\n",
        "* YrSold: Year Sold   \n",
        "* SaleType: Type of sale\n",
        "* SaleCondition: Condition of sale\n",
        "* MSSubClass: The building class\n",
        "* MSZoning: The general zoning classification\n",
        "* ..."
      ],
      "attachments":{
        
      },
      "metadata":{
        
      }
    },
    {
      "cell_type":"code",
      "source":[
        "import pandas as pd \n",
        "import numpy as np"
      ],
      "execution_count":79,
      "outputs":[
        
      ],
      "metadata":{
        
      }
    },
    {
      "cell_type":"markdown",
      "source":[
        "## Question 1\n",
        "\n",
        "* Import the data using Pandas and examine the shape. There are 79 feature columns plus the predictor, the sale price (`SalePrice`). \n",
        "* There are three different types: integers (`int64`), floats (`float64`), and strings (`object`, categoricals). Examine how many there are of each data type. "
      ],
      "attachments":{
        
      },
      "metadata":{
        
      }
    },
    {
      "cell_type":"code",
      "source":[
        "path = \"_Ames_Housing_Sales.csv\"\n",
        "dF = pd.read_csv(path, sep=\",\")"
      ],
      "execution_count":80,
      "outputs":[
        
      ],
      "metadata":{
        
      }
    },
    {
      "cell_type":"code",
      "source":[
        "dF.dtypes.value_counts()"
      ],
      "execution_count":81,
      "outputs":[
        {
          "data":{
            "text\/html":[
              
            ]
          },
          "metadata":{
            
          },
          "output_type":"display_data"
        }
      ],
      "metadata":{
        
      }
    },
    {
      "cell_type":"code",
      "source":[
        "dF.shape"
      ],
      "execution_count":82,
      "outputs":[
        {
          "data":{
            "text\/plain":[
              "(1379, 80)"
            ]
          },
          "metadata":{
            
          },
          "output_type":"display_data"
        }
      ],
      "metadata":{
        
      }
    },
    {
      "cell_type":"code",
      "source":[
        "dF.info()"
      ],
      "execution_count":83,
      "outputs":[
        {
          "name":"stdout",
          "text":[
            "<class 'pandas.core.frame.DataFrame'>\n",
            "RangeIndex: 1379 entries, 0 to 1378\n",
            "Data columns (total 80 columns):\n",
            " #   Column         Non-Null Count  Dtype  \n",
            "---  ------         --------------  -----  \n",
            " 0   1stFlrSF       1379 non-null   float64\n",
            " 1   2ndFlrSF       1379 non-null   float64\n",
            " 2   3SsnPorch      1379 non-null   float64\n",
            " 3   Alley          1379 non-null   object \n",
            " 4   BedroomAbvGr   1379 non-null   int64  \n",
            " 5   BldgType       1379 non-null   object \n",
            " 6   BsmtCond       1379 non-null   object \n",
            " 7   BsmtExposure   1379 non-null   object \n",
            " 8   BsmtFinSF1     1379 non-null   float64\n",
            " 9   BsmtFinSF2     1379 non-null   float64\n",
            " 10  BsmtFinType1   1379 non-null   object \n",
            " 11  BsmtFinType2   1379 non-null   object \n",
            " 12  BsmtFullBath   1379 non-null   int64  \n",
            " 13  BsmtHalfBath   1379 non-null   int64  \n",
            " 14  BsmtQual       1379 non-null   object \n",
            " 15  BsmtUnfSF      1379 non-null   float64\n",
            " 16  CentralAir     1379 non-null   object \n",
            " 17  Condition1     1379 non-null   object \n",
            " 18  Condition2     1379 non-null   object \n",
            " 19  Electrical     1379 non-null   object \n",
            " 20  EnclosedPorch  1379 non-null   float64\n",
            " 21  ExterCond      1379 non-null   object \n",
            " 22  ExterQual      1379 non-null   object \n",
            " 23  Exterior1st    1379 non-null   object \n",
            " 24  Exterior2nd    1379 non-null   object \n",
            " 25  Fence          1379 non-null   object \n",
            " 26  FireplaceQu    1379 non-null   object \n",
            " 27  Fireplaces     1379 non-null   int64  \n",
            " 28  Foundation     1379 non-null   object \n",
            " 29  FullBath       1379 non-null   int64  \n",
            " 30  Functional     1379 non-null   object \n",
            " 31  GarageArea     1379 non-null   float64\n",
            " 32  GarageCars     1379 non-null   int64  \n",
            " 33  GarageCond     1379 non-null   object \n",
            " 34  GarageFinish   1379 non-null   object \n",
            " 35  GarageQual     1379 non-null   object \n",
            " 36  GarageType     1379 non-null   object \n",
            " 37  GarageYrBlt    1379 non-null   float64\n",
            " 38  GrLivArea      1379 non-null   float64\n",
            " 39  HalfBath       1379 non-null   int64  \n",
            " 40  Heating        1379 non-null   object \n",
            " 41  HeatingQC      1379 non-null   object \n",
            " 42  HouseStyle     1379 non-null   object \n",
            " 43  KitchenAbvGr   1379 non-null   int64  \n",
            " 44  KitchenQual    1379 non-null   object \n",
            " 45  LandContour    1379 non-null   object \n",
            " 46  LandSlope      1379 non-null   object \n",
            " 47  LotArea        1379 non-null   float64\n",
            " 48  LotConfig      1379 non-null   object \n",
            " 49  LotFrontage    1379 non-null   float64\n",
            " 50  LotShape       1379 non-null   object \n",
            " 51  LowQualFinSF   1379 non-null   float64\n",
            " 52  MSSubClass     1379 non-null   int64  \n",
            " 53  MSZoning       1379 non-null   object \n",
            " 54  MasVnrArea     1379 non-null   float64\n",
            " 55  MasVnrType     1379 non-null   object \n",
            " 56  MiscFeature    1379 non-null   object \n",
            " 57  MiscVal        1379 non-null   float64\n",
            " 58  MoSold         1379 non-null   int64  \n",
            " 59  Neighborhood   1379 non-null   object \n",
            " 60  OpenPorchSF    1379 non-null   float64\n",
            " 61  OverallCond    1379 non-null   int64  \n",
            " 62  OverallQual    1379 non-null   int64  \n",
            " 63  PavedDrive     1379 non-null   object \n",
            " 64  PoolArea       1379 non-null   float64\n",
            " 65  PoolQC         1379 non-null   object \n",
            " 66  RoofMatl       1379 non-null   object \n",
            " 67  RoofStyle      1379 non-null   object \n",
            " 68  SaleCondition  1379 non-null   object \n",
            " 69  SaleType       1379 non-null   object \n",
            " 70  ScreenPorch    1379 non-null   float64\n",
            " 71  Street         1379 non-null   object \n",
            " 72  TotRmsAbvGrd   1379 non-null   int64  \n",
            " 73  TotalBsmtSF    1379 non-null   float64\n",
            " 74  Utilities      1379 non-null   object \n",
            " 75  WoodDeckSF     1379 non-null   float64\n",
            " 76  YearBuilt      1379 non-null   int64  \n",
            " 77  YearRemodAdd   1379 non-null   int64  \n",
            " 78  YrSold         1379 non-null   int64  \n",
            " 79  SalePrice      1379 non-null   float64\n",
            "dtypes: float64(21), int64(16), object(43)\n",
            "memory usage: 862.0+ KB\n"
          ],
          "output_type":"stream"
        }
      ],
      "metadata":{
        
      }
    },
    {
      "cell_type":"markdown",
      "source":[
        "## Question 2\n",
        "\n",
        "A significant challenge, particularly when dealing with data that have many columns, is ensuring each column gets encoded correctly. \n",
        "\n",
        "This is particularly true with data columns that are ordered categoricals (ordinals) vs unordered categoricals. Unordered categoricals should be one-hot encoded, however this can significantly increase the number of features and creates features that are highly correlated with each other.\n",
        "\n",
        "Determine how many total features would be present, relative to what currently exists, if all string (object) features are one-hot encoded. Recall that the total number of one-hot encoded columns is `n-1`, where `n` is the number of categories."
      ],
      "attachments":{
        
      },
      "metadata":{
        
      }
    },
    {
      "cell_type":"code",
      "source":[
        "mask  = dF.dtypes == np.object\n",
        "Cat_Cols = dF.columns[mask]\n",
        "dF[Cat_Cols]"
      ],
      "execution_count":84,
      "outputs":[
        {
          "data":{
            "text\/html":[
              "<div>\n",
              "<style scoped>\n",
              "    .dataframe tbody tr th:only-of-type {\n",
              "        vertical-align: middle;\n",
              "    }\n",
              "\n",
              "    .dataframe tbody tr th {\n",
              "        vertical-align: top;\n",
              "    }\n",
              "\n",
              "    .dataframe thead th {\n",
              "        text-align: right;\n",
              "    }\n",
              "<\/style>\n",
              "<table border=\"1\" class=\"dataframe\">\n",
              "  <thead>\n",
              "    <tr style=\"text-align: right;\">\n",
              "      <th><\/th>\n",
              "      <th>Alley<\/th>\n",
              "      <th>BldgType<\/th>\n",
              "      <th>BsmtCond<\/th>\n",
              "      <th>BsmtExposure<\/th>\n",
              "      <th>BsmtFinType1<\/th>\n",
              "      <th>BsmtFinType2<\/th>\n",
              "      <th>BsmtQual<\/th>\n",
              "      <th>CentralAir<\/th>\n",
              "      <th>Condition1<\/th>\n",
              "      <th>Condition2<\/th>\n",
              "      <th>...<\/th>\n",
              "      <th>MiscFeature<\/th>\n",
              "      <th>Neighborhood<\/th>\n",
              "      <th>PavedDrive<\/th>\n",
              "      <th>PoolQC<\/th>\n",
              "      <th>RoofMatl<\/th>\n",
              "      <th>RoofStyle<\/th>\n",
              "      <th>SaleCondition<\/th>\n",
              "      <th>SaleType<\/th>\n",
              "      <th>Street<\/th>\n",
              "      <th>Utilities<\/th>\n",
              "    <\/tr>\n",
              "  <\/thead>\n",
              "  <tbody>\n",
              "    <tr>\n",
              "      <th>0<\/th>\n",
              "      <td>None<\/td>\n",
              "      <td>1Fam<\/td>\n",
              "      <td>TA<\/td>\n",
              "      <td>No<\/td>\n",
              "      <td>GLQ<\/td>\n",
              "      <td>Unf<\/td>\n",
              "      <td>Gd<\/td>\n",
              "      <td>Y<\/td>\n",
              "      <td>Norm<\/td>\n",
              "      <td>Norm<\/td>\n",
              "      <td>...<\/td>\n",
              "      <td>None<\/td>\n",
              "      <td>CollgCr<\/td>\n",
              "      <td>Y<\/td>\n",
              "      <td>None<\/td>\n",
              "      <td>CompShg<\/td>\n",
              "      <td>Gable<\/td>\n",
              "      <td>Normal<\/td>\n",
              "      <td>WD<\/td>\n",
              "      <td>Pave<\/td>\n",
              "      <td>AllPub<\/td>\n",
              "    <\/tr>\n",
              "    <tr>\n",
              "      <th>1<\/th>\n",
              "      <td>None<\/td>\n",
              "      <td>1Fam<\/td>\n",
              "      <td>TA<\/td>\n",
              "      <td>Gd<\/td>\n",
              "      <td>ALQ<\/td>\n",
              "      <td>Unf<\/td>\n",
              "      <td>Gd<\/td>\n",
              "      <td>Y<\/td>\n",
              "      <td>Feedr<\/td>\n",
              "      <td>Norm<\/td>\n",
              "      <td>...<\/td>\n",
              "      <td>None<\/td>\n",
              "      <td>Veenker<\/td>\n",
              "      <td>Y<\/td>\n",
              "      <td>None<\/td>\n",
              "      <td>CompShg<\/td>\n",
              "      <td>Gable<\/td>\n",
              "      <td>Normal<\/td>\n",
              "      <td>WD<\/td>\n",
              "      <td>Pave<\/td>\n",
              "      <td>AllPub<\/td>\n",
              "    <\/tr>\n",
              "    <tr>\n",
              "      <th>2<\/th>\n",
              "      <td>None<\/td>\n",
              "      <td>1Fam<\/td>\n",
              "      <td>TA<\/td>\n",
              "      <td>Mn<\/td>\n",
              "      <td>GLQ<\/td>\n",
              "      <td>Unf<\/td>\n",
              "      <td>Gd<\/td>\n",
              "      <td>Y<\/td>\n",
              "      <td>Norm<\/td>\n",
              "      <td>Norm<\/td>\n",
              "      <td>...<\/td>\n",
              "      <td>None<\/td>\n",
              "      <td>CollgCr<\/td>\n",
              "      <td>Y<\/td>\n",
              "      <td>None<\/td>\n",
              "      <td>CompShg<\/td>\n",
              "      <td>Gable<\/td>\n",
              "      <td>Normal<\/td>\n",
              "      <td>WD<\/td>\n",
              "      <td>Pave<\/td>\n",
              "      <td>AllPub<\/td>\n",
              "    <\/tr>\n",
              "    <tr>\n",
              "      <th>3<\/th>\n",
              "      <td>None<\/td>\n",
              "      <td>1Fam<\/td>\n",
              "      <td>Gd<\/td>\n",
              "      <td>No<\/td>\n",
              "      <td>ALQ<\/td>\n",
              "      <td>Unf<\/td>\n",
              "      <td>TA<\/td>\n",
              "      <td>Y<\/td>\n",
              "      <td>Norm<\/td>\n",
              "      <td>Norm<\/td>\n",
              "      <td>...<\/td>\n",
              "      <td>None<\/td>\n",
              "      <td>Crawfor<\/td>\n",
              "      <td>Y<\/td>\n",
              "      <td>None<\/td>\n",
              "      <td>CompShg<\/td>\n",
              "      <td>Gable<\/td>\n",
              "      <td>Abnorml<\/td>\n",
              "      <td>WD<\/td>\n",
              "      <td>Pave<\/td>\n",
              "      <td>AllPub<\/td>\n",
              "    <\/tr>\n",
              "    <tr>\n",
              "      <th>4<\/th>\n",
              "      <td>None<\/td>\n",
              "      <td>1Fam<\/td>\n",
              "      <td>TA<\/td>\n",
              "      <td>Av<\/td>\n",
              "      <td>GLQ<\/td>\n",
              "      <td>Unf<\/td>\n",
              "      <td>Gd<\/td>\n",
              "      <td>Y<\/td>\n",
              "      <td>Norm<\/td>\n",
              "      <td>Norm<\/td>\n",
              "      <td>...<\/td>\n",
              "      <td>None<\/td>\n",
              "      <td>NoRidge<\/td>\n",
              "      <td>Y<\/td>\n",
              "      <td>None<\/td>\n",
              "      <td>CompShg<\/td>\n",
              "      <td>Gable<\/td>\n",
              "      <td>Normal<\/td>\n",
              "      <td>WD<\/td>\n",
              "      <td>Pave<\/td>\n",
              "      <td>AllPub<\/td>\n",
              "    <\/tr>\n",
              "    <tr>\n",
              "      <th>...<\/th>\n",
              "      <td>...<\/td>\n",
              "      <td>...<\/td>\n",
              "      <td>...<\/td>\n",
              "      <td>...<\/td>\n",
              "      <td>...<\/td>\n",
              "      <td>...<\/td>\n",
              "      <td>...<\/td>\n",
              "      <td>...<\/td>\n",
              "      <td>...<\/td>\n",
              "      <td>...<\/td>\n",
              "      <td>...<\/td>\n",
              "      <td>...<\/td>\n",
              "      <td>...<\/td>\n",
              "      <td>...<\/td>\n",
              "      <td>...<\/td>\n",
              "      <td>...<\/td>\n",
              "      <td>...<\/td>\n",
              "      <td>...<\/td>\n",
              "      <td>...<\/td>\n",
              "      <td>...<\/td>\n",
              "      <td>...<\/td>\n",
              "    <\/tr>\n",
              "    <tr>\n",
              "      <th>1374<\/th>\n",
              "      <td>None<\/td>\n",
              "      <td>1Fam<\/td>\n",
              "      <td>None<\/td>\n",
              "      <td>None<\/td>\n",
              "      <td>None<\/td>\n",
              "      <td>None<\/td>\n",
              "      <td>None<\/td>\n",
              "      <td>Y<\/td>\n",
              "      <td>Norm<\/td>\n",
              "      <td>Norm<\/td>\n",
              "      <td>...<\/td>\n",
              "      <td>None<\/td>\n",
              "      <td>Gilbert<\/td>\n",
              "      <td>Y<\/td>\n",
              "      <td>None<\/td>\n",
              "      <td>CompShg<\/td>\n",
              "      <td>Gable<\/td>\n",
              "      <td>Normal<\/td>\n",
              "      <td>WD<\/td>\n",
              "      <td>Pave<\/td>\n",
              "      <td>AllPub<\/td>\n",
              "    <\/tr>\n",
              "    <tr>\n",
              "      <th>1375<\/th>\n",
              "      <td>None<\/td>\n",
              "      <td>1Fam<\/td>\n",
              "      <td>TA<\/td>\n",
              "      <td>No<\/td>\n",
              "      <td>ALQ<\/td>\n",
              "      <td>Rec<\/td>\n",
              "      <td>Gd<\/td>\n",
              "      <td>Y<\/td>\n",
              "      <td>Norm<\/td>\n",
              "      <td>Norm<\/td>\n",
              "      <td>...<\/td>\n",
              "      <td>None<\/td>\n",
              "      <td>NWAmes<\/td>\n",
              "      <td>Y<\/td>\n",
              "      <td>None<\/td>\n",
              "      <td>CompShg<\/td>\n",
              "      <td>Gable<\/td>\n",
              "      <td>Normal<\/td>\n",
              "      <td>WD<\/td>\n",
              "      <td>Pave<\/td>\n",
              "      <td>AllPub<\/td>\n",
              "    <\/tr>\n",
              "    <tr>\n",
              "      <th>1376<\/th>\n",
              "      <td>None<\/td>\n",
              "      <td>1Fam<\/td>\n",
              "      <td>Gd<\/td>\n",
              "      <td>No<\/td>\n",
              "      <td>GLQ<\/td>\n",
              "      <td>Unf<\/td>\n",
              "      <td>TA<\/td>\n",
              "      <td>Y<\/td>\n",
              "      <td>Norm<\/td>\n",
              "      <td>Norm<\/td>\n",
              "      <td>...<\/td>\n",
              "      <td>Shed<\/td>\n",
              "      <td>Crawfor<\/td>\n",
              "      <td>Y<\/td>\n",
              "      <td>None<\/td>\n",
              "      <td>CompShg<\/td>\n",
              "      <td>Gable<\/td>\n",
              "      <td>Normal<\/td>\n",
              "      <td>WD<\/td>\n",
              "      <td>Pave<\/td>\n",
              "      <td>AllPub<\/td>\n",
              "    <\/tr>\n",
              "    <tr>\n",
              "      <th>1377<\/th>\n",
              "      <td>None<\/td>\n",
              "      <td>1Fam<\/td>\n",
              "      <td>TA<\/td>\n",
              "      <td>Mn<\/td>\n",
              "      <td>GLQ<\/td>\n",
              "      <td>Rec<\/td>\n",
              "      <td>TA<\/td>\n",
              "      <td>Y<\/td>\n",
              "      <td>Norm<\/td>\n",
              "      <td>Norm<\/td>\n",
              "      <td>...<\/td>\n",
              "      <td>None<\/td>\n",
              "      <td>NAmes<\/td>\n",
              "      <td>Y<\/td>\n",
              "      <td>None<\/td>\n",
              "      <td>CompShg<\/td>\n",
              "      <td>Hip<\/td>\n",
              "      <td>Normal<\/td>\n",
              "      <td>WD<\/td>\n",
              "      <td>Pave<\/td>\n",
              "      <td>AllPub<\/td>\n",
              "    <\/tr>\n",
              "    <tr>\n",
              "      <th>1378<\/th>\n",
              "      <td>None<\/td>\n",
              "      <td>1Fam<\/td>\n",
              "      <td>TA<\/td>\n",
              "      <td>No<\/td>\n",
              "      <td>BLQ<\/td>\n",
              "      <td>LwQ<\/td>\n",
              "      <td>TA<\/td>\n",
              "      <td>Y<\/td>\n",
              "      <td>Norm<\/td>\n",
              "      <td>Norm<\/td>\n",
              "      <td>...<\/td>\n",
              "      <td>None<\/td>\n",
              "      <td>Edwards<\/td>\n",
              "      <td>Y<\/td>\n",
              "      <td>None<\/td>\n",
              "      <td>CompShg<\/td>\n",
              "      <td>Gable<\/td>\n",
              "      <td>Normal<\/td>\n",
              "      <td>WD<\/td>\n",
              "      <td>Pave<\/td>\n",
              "      <td>AllPub<\/td>\n",
              "    <\/tr>\n",
              "  <\/tbody>\n",
              "<\/table>\n",
              "<p>1379 rows × 43 columns<\/p>\n",
              "<\/div>"
            ]
          },
          "metadata":{
            
          },
          "output_type":"display_data"
        }
      ],
      "metadata":{
        
      }
    },
    {
      "cell_type":"code",
      "source":[
        "num_ohe_col  = (dF[Cat_Cols]\n",
        ".apply(lambda x: x.nunique())\n",
        ".sort_values(ascending=False))\n",
        "#ohe = one hot encoded"
      ],
      "execution_count":85,
      "outputs":[
        
      ],
      "metadata":{
        
      }
    },
    {
      "cell_type":"markdown",
      "source":[
        "if we  apply one-hot encoded each variable by created n-1 features this so much "
      ],
      "attachments":{
        
      },
      "metadata":{
        
      }
    },
    {
      "cell_type":"markdown",
      "source":[
        "no need encoded if there is only one variable "
      ],
      "attachments":{
        
      },
      "metadata":{
        
      }
    },
    {
      "cell_type":"code",
      "source":[
        "small_num_ohc_cols = num_ohe_col.loc[num_ohe_col > 1]\n",
        "small_num_ohc_cols -= 1"
      ],
      "execution_count":86,
      "outputs":[
        
      ],
      "metadata":{
        
      }
    },
    {
      "cell_type":"code",
      "source":[
        "small_num_ohc_cols.sum()\n",
        "# this means extra 215 feature one data set"
      ],
      "execution_count":87,
      "outputs":[
        {
          "data":{
            "text\/plain":[
              "215"
            ]
          },
          "metadata":{
            
          },
          "output_type":"display_data"
        }
      ],
      "metadata":{
        
      }
    },
    {
      "cell_type":"markdown",
      "source":[
        "## Question 3\n",
        "\n",
        "Let's create a new data set where all of the above categorical features will be one-hot encoded. We can fit this data and see how it affects the results.\n",
        "\n",
        "* Used the dataframe `.copy()` method to create a completely separate copy of the dataframe for one-hot encoding\n",
        "* On this new dataframe, one-hot encode each of the appropriate columns and add it back to the dataframe. Be sure to drop the original column.\n",
        "* For the data that are not one-hot encoded, drop the columns that are string categoricals.\n",
        "\n",
        "For the first step, numerically encoding the string categoricals, either Scikit-learn;s `LabelEncoder` or `DictVectorizer` can be used. However, the former is probably easier since it doesn't require specifying a numerical value for each category, and we are going to one-hot encode all of the numerical values anyway. (Can you think of a time when `DictVectorizer` might be preferred?)"
      ],
      "attachments":{
        
      },
      "metadata":{
        
      }
    },
    {
      "cell_type":"code",
      "source":[
        "from sklearn.preprocessing import OneHotEncoder, LabelEncoder\n",
        "dF_OHC = dF.copy()\n",
        "ohc = OneHotEncoder()\n",
        "le = LabelEncoder()\n",
        "\n",
        "for _ in num_ohe_col.index:\n",
        "   \n",
        "    # ınteger encode the strings categories \n",
        "    dat = le.fit_transform(dF_OHC[_]).astype(np.int)\n",
        "\n",
        "    # Remove the original column  from dataframe \n",
        "    dF_OHC = dF_OHC.drop(_, axis=1)\n",
        "\n",
        "    # One hot encode the data--this returns a sparse array\n",
        "    new_dat = ohc.fit_transform(dat.reshape(-1,1))\n",
        "\n",
        "    # create a unique column names\n",
        "    n_col = new_dat.shape[1]\n",
        "    col_names = ['_'.join([_, str(x)]) for  x in range(n_col)]\n",
        "\n",
        "    # Create New DF\n",
        "    New_dF = pd.DataFrame(new_dat.toarray(),\n",
        "                          index=dF_OHC.index,\n",
        "                          columns=col_names)\n",
        "    \n",
        "    #Append to newdF to dF\n",
        "\n",
        "    dF_OHC = pd.concat([dF_OHC, New_dF] ,axis=1  )\n",
        "\n"
      ],
      "execution_count":88,
      "outputs":[
        
      ],
      "metadata":{
        
      }
    },
    {
      "cell_type":"code",
      "source":[
        "dF_OHC.info()"
      ],
      "execution_count":89,
      "outputs":[
        {
          "name":"stdout",
          "text":[
            "<class 'pandas.core.frame.DataFrame'>\n",
            "RangeIndex: 1379 entries, 0 to 1378\n",
            "Columns: 295 entries, 1stFlrSF to Utilities_1\n",
            "dtypes: float64(279), int64(16)\n",
            "memory usage: 3.1 MB\n"
          ],
          "output_type":"stream"
        }
      ],
      "metadata":{
        
      }
    },
    {
      "cell_type":"code",
      "source":[
        "#Column Differen First and Last DF\n",
        "\n",
        "dF_OHC.shape[1] - dF.shape[1]"
      ],
      "execution_count":90,
      "outputs":[
        {
          "data":{
            "text\/plain":[
              "215"
            ]
          },
          "metadata":{
            
          },
          "output_type":"display_data"
        }
      ],
      "metadata":{
        
      }
    },
    {
      "cell_type":"code",
      "source":[
        "dF = dF.drop(num_ohe_col.index, axis=1)"
      ],
      "execution_count":91,
      "outputs":[
        
      ],
      "metadata":{
        
      }
    },
    {
      "cell_type":"code",
      "source":[
        "dF.shape"
      ],
      "execution_count":94,
      "outputs":[
        {
          "data":{
            "text\/plain":[
              "(1379, 37)"
            ]
          },
          "metadata":{
            
          },
          "output_type":"display_data"
        }
      ],
      "metadata":{
        
      }
    },
    {
      "cell_type":"code",
      "source":[
        "dF_OHE"
      ],
      "execution_count":103,
      "outputs":[
        {
          "data":{
            "text\/html":[
              "<div>\n",
              "<style scoped>\n",
              "    .dataframe tbody tr th:only-of-type {\n",
              "        vertical-align: middle;\n",
              "    }\n",
              "\n",
              "    .dataframe tbody tr th {\n",
              "        vertical-align: top;\n",
              "    }\n",
              "\n",
              "    .dataframe thead th {\n",
              "        text-align: right;\n",
              "    }\n",
              "<\/style>\n",
              "<table border=\"1\" class=\"dataframe\">\n",
              "  <thead>\n",
              "    <tr style=\"text-align: right;\">\n",
              "      <th><\/th>\n",
              "      <th>1stFlrSF<\/th>\n",
              "      <th>2ndFlrSF<\/th>\n",
              "      <th>3SsnPorch<\/th>\n",
              "      <th>BedroomAbvGr<\/th>\n",
              "      <th>BsmtFinSF1<\/th>\n",
              "      <th>BsmtFinSF2<\/th>\n",
              "      <th>BsmtFullBath<\/th>\n",
              "      <th>BsmtHalfBath<\/th>\n",
              "      <th>BsmtUnfSF<\/th>\n",
              "      <th>EnclosedPorch<\/th>\n",
              "      <th>...<\/th>\n",
              "      <th>OverallQual<\/th>\n",
              "      <th>PoolArea<\/th>\n",
              "      <th>ScreenPorch<\/th>\n",
              "      <th>TotRmsAbvGrd<\/th>\n",
              "      <th>TotalBsmtSF<\/th>\n",
              "      <th>WoodDeckSF<\/th>\n",
              "      <th>YearBuilt<\/th>\n",
              "      <th>YearRemodAdd<\/th>\n",
              "      <th>YrSold<\/th>\n",
              "      <th>SalePrice<\/th>\n",
              "    <\/tr>\n",
              "  <\/thead>\n",
              "  <tbody>\n",
              "    <tr>\n",
              "      <th>0<\/th>\n",
              "      <td>856.0<\/td>\n",
              "      <td>854.0<\/td>\n",
              "      <td>0.0<\/td>\n",
              "      <td>3<\/td>\n",
              "      <td>706.0<\/td>\n",
              "      <td>0.0<\/td>\n",
              "      <td>1<\/td>\n",
              "      <td>0<\/td>\n",
              "      <td>150.0<\/td>\n",
              "      <td>0.0<\/td>\n",
              "      <td>...<\/td>\n",
              "      <td>7<\/td>\n",
              "      <td>0.0<\/td>\n",
              "      <td>0.0<\/td>\n",
              "      <td>8<\/td>\n",
              "      <td>856.0<\/td>\n",
              "      <td>0.0<\/td>\n",
              "      <td>2003<\/td>\n",
              "      <td>2003<\/td>\n",
              "      <td>2008<\/td>\n",
              "      <td>208500.0<\/td>\n",
              "    <\/tr>\n",
              "    <tr>\n",
              "      <th>1<\/th>\n",
              "      <td>1262.0<\/td>\n",
              "      <td>0.0<\/td>\n",
              "      <td>0.0<\/td>\n",
              "      <td>3<\/td>\n",
              "      <td>978.0<\/td>\n",
              "      <td>0.0<\/td>\n",
              "      <td>0<\/td>\n",
              "      <td>1<\/td>\n",
              "      <td>284.0<\/td>\n",
              "      <td>0.0<\/td>\n",
              "      <td>...<\/td>\n",
              "      <td>6<\/td>\n",
              "      <td>0.0<\/td>\n",
              "      <td>0.0<\/td>\n",
              "      <td>6<\/td>\n",
              "      <td>1262.0<\/td>\n",
              "      <td>298.0<\/td>\n",
              "      <td>1976<\/td>\n",
              "      <td>1976<\/td>\n",
              "      <td>2007<\/td>\n",
              "      <td>181500.0<\/td>\n",
              "    <\/tr>\n",
              "    <tr>\n",
              "      <th>2<\/th>\n",
              "      <td>920.0<\/td>\n",
              "      <td>866.0<\/td>\n",
              "      <td>0.0<\/td>\n",
              "      <td>3<\/td>\n",
              "      <td>486.0<\/td>\n",
              "      <td>0.0<\/td>\n",
              "      <td>1<\/td>\n",
              "      <td>0<\/td>\n",
              "      <td>434.0<\/td>\n",
              "      <td>0.0<\/td>\n",
              "      <td>...<\/td>\n",
              "      <td>7<\/td>\n",
              "      <td>0.0<\/td>\n",
              "      <td>0.0<\/td>\n",
              "      <td>6<\/td>\n",
              "      <td>920.0<\/td>\n",
              "      <td>0.0<\/td>\n",
              "      <td>2001<\/td>\n",
              "      <td>2002<\/td>\n",
              "      <td>2008<\/td>\n",
              "      <td>223500.0<\/td>\n",
              "    <\/tr>\n",
              "    <tr>\n",
              "      <th>3<\/th>\n",
              "      <td>961.0<\/td>\n",
              "      <td>756.0<\/td>\n",
              "      <td>0.0<\/td>\n",
              "      <td>3<\/td>\n",
              "      <td>216.0<\/td>\n",
              "      <td>0.0<\/td>\n",
              "      <td>1<\/td>\n",
              "      <td>0<\/td>\n",
              "      <td>540.0<\/td>\n",
              "      <td>272.0<\/td>\n",
              "      <td>...<\/td>\n",
              "      <td>7<\/td>\n",
              "      <td>0.0<\/td>\n",
              "      <td>0.0<\/td>\n",
              "      <td>7<\/td>\n",
              "      <td>756.0<\/td>\n",
              "      <td>0.0<\/td>\n",
              "      <td>1915<\/td>\n",
              "      <td>1970<\/td>\n",
              "      <td>2006<\/td>\n",
              "      <td>140000.0<\/td>\n",
              "    <\/tr>\n",
              "    <tr>\n",
              "      <th>4<\/th>\n",
              "      <td>1145.0<\/td>\n",
              "      <td>1053.0<\/td>\n",
              "      <td>0.0<\/td>\n",
              "      <td>4<\/td>\n",
              "      <td>655.0<\/td>\n",
              "      <td>0.0<\/td>\n",
              "      <td>1<\/td>\n",
              "      <td>0<\/td>\n",
              "      <td>490.0<\/td>\n",
              "      <td>0.0<\/td>\n",
              "      <td>...<\/td>\n",
              "      <td>8<\/td>\n",
              "      <td>0.0<\/td>\n",
              "      <td>0.0<\/td>\n",
              "      <td>9<\/td>\n",
              "      <td>1145.0<\/td>\n",
              "      <td>192.0<\/td>\n",
              "      <td>2000<\/td>\n",
              "      <td>2000<\/td>\n",
              "      <td>2008<\/td>\n",
              "      <td>250000.0<\/td>\n",
              "    <\/tr>\n",
              "    <tr>\n",
              "      <th>...<\/th>\n",
              "      <td>...<\/td>\n",
              "      <td>...<\/td>\n",
              "      <td>...<\/td>\n",
              "      <td>...<\/td>\n",
              "      <td>...<\/td>\n",
              "      <td>...<\/td>\n",
              "      <td>...<\/td>\n",
              "      <td>...<\/td>\n",
              "      <td>...<\/td>\n",
              "      <td>...<\/td>\n",
              "      <td>...<\/td>\n",
              "      <td>...<\/td>\n",
              "      <td>...<\/td>\n",
              "      <td>...<\/td>\n",
              "      <td>...<\/td>\n",
              "      <td>...<\/td>\n",
              "      <td>...<\/td>\n",
              "      <td>...<\/td>\n",
              "      <td>...<\/td>\n",
              "      <td>...<\/td>\n",
              "      <td>...<\/td>\n",
              "    <\/tr>\n",
              "    <tr>\n",
              "      <th>1374<\/th>\n",
              "      <td>953.0<\/td>\n",
              "      <td>694.0<\/td>\n",
              "      <td>0.0<\/td>\n",
              "      <td>3<\/td>\n",
              "      <td>0.0<\/td>\n",
              "      <td>0.0<\/td>\n",
              "      <td>0<\/td>\n",
              "      <td>0<\/td>\n",
              "      <td>953.0<\/td>\n",
              "      <td>0.0<\/td>\n",
              "      <td>...<\/td>\n",
              "      <td>6<\/td>\n",
              "      <td>0.0<\/td>\n",
              "      <td>0.0<\/td>\n",
              "      <td>7<\/td>\n",
              "      <td>953.0<\/td>\n",
              "      <td>0.0<\/td>\n",
              "      <td>1999<\/td>\n",
              "      <td>2000<\/td>\n",
              "      <td>2007<\/td>\n",
              "      <td>175000.0<\/td>\n",
              "    <\/tr>\n",
              "    <tr>\n",
              "      <th>1375<\/th>\n",
              "      <td>2073.0<\/td>\n",
              "      <td>0.0<\/td>\n",
              "      <td>0.0<\/td>\n",
              "      <td>3<\/td>\n",
              "      <td>790.0<\/td>\n",
              "      <td>163.0<\/td>\n",
              "      <td>1<\/td>\n",
              "      <td>0<\/td>\n",
              "      <td>589.0<\/td>\n",
              "      <td>0.0<\/td>\n",
              "      <td>...<\/td>\n",
              "      <td>6<\/td>\n",
              "      <td>0.0<\/td>\n",
              "      <td>0.0<\/td>\n",
              "      <td>7<\/td>\n",
              "      <td>1542.0<\/td>\n",
              "      <td>349.0<\/td>\n",
              "      <td>1978<\/td>\n",
              "      <td>1988<\/td>\n",
              "      <td>2010<\/td>\n",
              "      <td>210000.0<\/td>\n",
              "    <\/tr>\n",
              "    <tr>\n",
              "      <th>1376<\/th>\n",
              "      <td>1188.0<\/td>\n",
              "      <td>1152.0<\/td>\n",
              "      <td>0.0<\/td>\n",
              "      <td>4<\/td>\n",
              "      <td>275.0<\/td>\n",
              "      <td>0.0<\/td>\n",
              "      <td>0<\/td>\n",
              "      <td>0<\/td>\n",
              "      <td>877.0<\/td>\n",
              "      <td>0.0<\/td>\n",
              "      <td>...<\/td>\n",
              "      <td>7<\/td>\n",
              "      <td>0.0<\/td>\n",
              "      <td>0.0<\/td>\n",
              "      <td>9<\/td>\n",
              "      <td>1152.0<\/td>\n",
              "      <td>0.0<\/td>\n",
              "      <td>1941<\/td>\n",
              "      <td>2006<\/td>\n",
              "      <td>2010<\/td>\n",
              "      <td>266500.0<\/td>\n",
              "    <\/tr>\n",
              "    <tr>\n",
              "      <th>1377<\/th>\n",
              "      <td>1078.0<\/td>\n",
              "      <td>0.0<\/td>\n",
              "      <td>0.0<\/td>\n",
              "      <td>2<\/td>\n",
              "      <td>49.0<\/td>\n",
              "      <td>1029.0<\/td>\n",
              "      <td>1<\/td>\n",
              "      <td>0<\/td>\n",
              "      <td>0.0<\/td>\n",
              "      <td>112.0<\/td>\n",
              "      <td>...<\/td>\n",
              "      <td>5<\/td>\n",
              "      <td>0.0<\/td>\n",
              "      <td>0.0<\/td>\n",
              "      <td>5<\/td>\n",
              "      <td>1078.0<\/td>\n",
              "      <td>366.0<\/td>\n",
              "      <td>1950<\/td>\n",
              "      <td>1996<\/td>\n",
              "      <td>2010<\/td>\n",
              "      <td>142125.0<\/td>\n",
              "    <\/tr>\n",
              "    <tr>\n",
              "      <th>1378<\/th>\n",
              "      <td>1256.0<\/td>\n",
              "      <td>0.0<\/td>\n",
              "      <td>0.0<\/td>\n",
              "      <td>3<\/td>\n",
              "      <td>830.0<\/td>\n",
              "      <td>290.0<\/td>\n",
              "      <td>1<\/td>\n",
              "      <td>0<\/td>\n",
              "      <td>136.0<\/td>\n",
              "      <td>0.0<\/td>\n",
              "      <td>...<\/td>\n",
              "      <td>5<\/td>\n",
              "      <td>0.0<\/td>\n",
              "      <td>0.0<\/td>\n",
              "      <td>6<\/td>\n",
              "      <td>1256.0<\/td>\n",
              "      <td>736.0<\/td>\n",
              "      <td>1965<\/td>\n",
              "      <td>1965<\/td>\n",
              "      <td>2008<\/td>\n",
              "      <td>147500.0<\/td>\n",
              "    <\/tr>\n",
              "  <\/tbody>\n",
              "<\/table>\n",
              "<p>1379 rows × 37 columns<\/p>\n",
              "<\/div>"
            ]
          },
          "metadata":{
            
          },
          "output_type":"display_data"
        }
      ],
      "metadata":{
        
      }
    },
    {
      "cell_type":"markdown",
      "source":[
        "## Question 4\n",
        "\n",
        "* Create train and test splits of both data sets. To ensure the data gets split the same way, use the same `random_state` in each of the two splits.\n",
        "* For each data set, fit a basic linear regression model on the training data. \n",
        "* Calculate the mean squared error on both the train and test sets for the respective models. Which model produces smaller error on the test data and why?"
      ],
      "attachments":{
        
      },
      "metadata":{
        
      }
    },
    {
      "cell_type":"code",
      "source":[
        "from sklearn.model_selection import train_test_split\n",
        "\n",
        "y_col = \"SalePrice\""
      ],
      "execution_count":96,
      "outputs":[
        
      ],
      "metadata":{
        
      }
    },
    {
      "cell_type":"code",
      "source":[
        "\n",
        "# split the data this not one hot encoded\n",
        "feature_cols = [x for x in dF.columns if x != y_col]\n",
        "X_data = dF[feature_cols]\n",
        "Y_data = dF[y_col]\n",
        "\n",
        "X_train, X_test, y_train, y_test = train_test_split(X_data, Y_data, test_size=.3,\n",
        "                                                                  random_state=42)\n",
        "\n",
        "\n",
        "# split the data that is one hot encoded\n",
        "\n",
        "feature_cols = [x for x in dF_OHC if x != y_col]\n",
        "X_Data_Ohc = dF_OHC[feature_cols]\n",
        "Y_Data_Ohc = dF_OHC[y_col]\n",
        "\n",
        "X_train_ohc, X_test_ohc, y_train_ohc, y_test_ohc = train_test_split(X_Data_Ohc, Y_Data_Ohc, test_size = .3,\n",
        "                                                                random_state=42)"
      ],
      "execution_count":98,
      "outputs":[
        
      ],
      "metadata":{
        
      }
    },
    {
      "cell_type":"code",
      "source":[
        "(X_train_ohc.index == X_train.index).all() # Compare they are identical "
      ],
      "execution_count":101,
      "outputs":[
        {
          "data":{
            "text\/plain":[
              "True"
            ]
          },
          "metadata":{
            
          },
          "output_type":"display_data"
        }
      ],
      "metadata":{
        
      }
    },
    {
      "cell_type":"code",
      "source":[
        "from sklearn.linear_model import LinearRegression\n",
        "from sklearn.metrics import mean_squared_error\n",
        "\n",
        "LR = LinearRegression()\n",
        "\n",
        "# Storage for Error Values\n",
        "\n",
        "MSE_dF = list()\n",
        "\n",
        "# Data that have not been one-hot encoded\n",
        "LR = LR.fit(X_train, y_train)\n",
        "\n",
        "y_train_pred = LR.predict(X_train)\n",
        "y_test_pred = LR.predict(X_test)\n",
        "\n",
        "MSE_dF.append(pd.Series({\"Train\": mean_squared_error(y_train, y_train_pred),\n",
        "               \"Test\" : mean_squared_error(y_test, y_test_pred)},\n",
        "                name = \"No Encoding\"))\n",
        "\n",
        "# Data That have one Hot Encoded\n",
        "\n",
        "LR = LR.fit(X_train_ohc, y_train_ohc)\n",
        "\n",
        "y_train_ohcp = LR.predict(X_train_ohc)\n",
        "y_test_ohcp = LR.predict(X_test_ohc)\n",
        "\n",
        "MSE_dF.append(pd.Series({\"Train\": mean_squared_error(y_train_ohc, y_train_ohcp),\n",
        "               \"Test\" : mean_squared_error(y_test_ohc, y_test_ohcp)},\n",
        "                name = \"One Hot Encoding\"))\n",
        "# Assemble the Result \n",
        "\n",
        "MSE_dF = pd.concat(MSE_dF, axis=1)\n",
        "MSE_dF"
      ],
      "execution_count":104,
      "outputs":[
        {
          "data":{
            "text\/html":[
              "<div>\n",
              "<style scoped>\n",
              "    .dataframe tbody tr th:only-of-type {\n",
              "        vertical-align: middle;\n",
              "    }\n",
              "\n",
              "    .dataframe tbody tr th {\n",
              "        vertical-align: top;\n",
              "    }\n",
              "\n",
              "    .dataframe thead th {\n",
              "        text-align: right;\n",
              "    }\n",
              "<\/style>\n",
              "<table border=\"1\" class=\"dataframe\">\n",
              "  <thead>\n",
              "    <tr style=\"text-align: right;\">\n",
              "      <th><\/th>\n",
              "      <th>No Encoding<\/th>\n",
              "      <th>One Hot Encoding<\/th>\n",
              "    <\/tr>\n",
              "  <\/thead>\n",
              "  <tbody>\n",
              "    <tr>\n",
              "      <th>Train<\/th>\n",
              "      <td>1.131507e+09<\/td>\n",
              "      <td>3.177261e+08<\/td>\n",
              "    <\/tr>\n",
              "    <tr>\n",
              "      <th>Test<\/th>\n",
              "      <td>1.372182e+09<\/td>\n",
              "      <td>2.531138e+16<\/td>\n",
              "    <\/tr>\n",
              "  <\/tbody>\n",
              "<\/table>\n",
              "<\/div>"
            ]
          },
          "metadata":{
            
          },
          "output_type":"display_data"
        }
      ],
      "metadata":{
        
      }
    },
    {
      "cell_type":"markdown",
      "source":[
        "Note that the error values on the one-hot encoded data are very different for the train and test data. In particular, the errors on the test data are much higher. Based on the lecture, this is because the one-hot encoded model is overfitting the data. We will learn how to deal with issues like this in the next lesson."
      ],
      "attachments":{
        
      },
      "metadata":{
        
      }
    },
    {
      "cell_type":"markdown",
      "source":[
        "## Question 5\n",
        "\n",
        "For each of the data sets (one-hot encoded and not encoded):\n",
        "\n",
        "* Scale the all the non-hot encoded values using one of the following: `StandardScaler`, `MinMaxScaler`, `MaxAbsScaler`.\n",
        "* Compare the error calculated on the test sets\n",
        "\n",
        "Be sure to calculate the skew (to decide if a transformation should be done) and fit the scaler on *ONLY* the training data, but then apply it to both the train and test data identically."
      ],
      "attachments":{
        
      },
      "metadata":{
        
      }
    },
    {
      "cell_type":"code",
      "source":[
        "# Mute the setting with a copy warnings\n",
        "pd.options.mode.chained_assignment = None"
      ],
      "execution_count":105,
      "outputs":[
        
      ],
      "metadata":{
        
      }
    },
    {
      "cell_type":"code",
      "source":[
        "from sklearn.preprocessing import StandardScaler, MinMaxScaler, MaxAbsScaler\n",
        "\n",
        "\n",
        "scalers = {'standard': StandardScaler(),\n",
        "           'minmax': MinMaxScaler(),\n",
        "           'maxabs': MaxAbsScaler()}\n",
        "\n",
        "training_test_sets = {\n",
        "    'not_encoded': (X_train, y_train, X_test, y_test),\n",
        "    'one_hot_encoded': (X_train_ohc, y_train_ohc, X_test_ohc, y_test_ohc)}\n",
        "\n",
        "\n",
        "# Get the list of float columns, and the float data\n",
        "# so that we don't scale something we already scaled. \n",
        "# We're supposed to scale the original data each time\n",
        "mask = X_train.dtypes == np.float\n",
        "float_columns = X_train.columns[mask]\n",
        "\n",
        "# initialize model\n",
        "LR = LinearRegression()\n",
        "\n",
        "# iterate over all possible combinations and get the errors\n",
        "errors = {}\n",
        "for encoding_label, (_X_train, _y_train, _X_test, _y_test) in training_test_sets.items():\n",
        "    for scaler_label, scaler in scalers.items():\n",
        "        trainingset = _X_train.copy()  # copy because we dont want to scale this more than once.\n",
        "        testset = _X_test.copy()\n",
        "        trainingset[float_columns] = scaler.fit_transform(trainingset[float_columns])\n",
        "        testset[float_columns] = scaler.transform(testset[float_columns])\n",
        "        LR.fit(trainingset, _y_train)\n",
        "        predictions = LR.predict(testset)\n",
        "        key = encoding_label + ' - ' + scaler_label + 'scaling'\n",
        "        errors[key] = mean_squared_error(_y_test, predictions)\n",
        "\n",
        "errors = pd.Series(errors)\n",
        "print(errors.to_string())\n",
        "print('-' * 80)\n",
        "for key, error_val in errors.items():\n",
        "    print(key, error_val)"
      ],
      "execution_count":111,
      "outputs":[
        {
          "name":"stdout",
          "text":[
            "not_encoded - standardscaling        1.372182e+09\n",
            "not_encoded - minmaxscaling          1.372179e+09\n",
            "not_encoded - maxabsscaling          1.372198e+09\n",
            "one_hot_encoded - standardscaling    8.065328e+09\n",
            "one_hot_encoded - minmaxscaling      8.065328e+09\n",
            "one_hot_encoded - maxabsscaling      8.065328e+09\n",
            "--------------------------------------------------------------------------------\n",
            "not_encoded - standardscaling 1372182358.934498\n",
            "not_encoded - minmaxscaling 1372178956.3054204\n",
            "not_encoded - maxabsscaling 1372198042.4824016\n",
            "one_hot_encoded - standardscaling 8065327607.247184\n",
            "one_hot_encoded - minmaxscaling 8065327607.180088\n",
            "one_hot_encoded - maxabsscaling 8065327607.212254\n"
          ],
          "output_type":"stream"
        }
      ],
      "metadata":{
        
      }
    },
    {
      "cell_type":"markdown",
      "source":[
        "## Question 6\n",
        "\n",
        "Plot predictions vs actual for one of the models."
      ],
      "attachments":{
        
      },
      "metadata":{
        
      }
    },
    {
      "cell_type":"code",
      "source":[
        "import matplotlib.pyplot as plt \n",
        "import seaborn as sns\n",
        "%matplotlib inline\n",
        "\n",
        "sns.set_context(\"talk\")\n",
        "sns.set_style(\"ticks\")\n",
        "sns.set_palette(\"dark\")\n",
        "\n",
        "ax = plt.axes()\n",
        "\n",
        "# we are going to use test_Y and Prediction_test_y\n",
        "ax.scatter(y_test, y_test_pred, alpha = .5)\n",
        "ax.set(xlabel = \"Ground Truth\",\n",
        "       ylabel = \"Predictions\",\n",
        "       title = \"Ames, Iowa House Price Predictions vs Truth, using Linear Regression\"\n",
        ")\n",
        "plt.show()"
      ],
      "execution_count":122,
      "outputs":[
        {
          "data":{
            "image\/png":"[encoded data removed]"
          },
          "metadata":{
            "image\/png":{
              
            }
          },
          "output_type":"display_data"
        }
      ],
      "metadata":{
        
      }
    },
    {
      "cell_type":"code",
      "source":[
        
      ],
      "execution_count":0,
      "outputs":[
        
      ],
      "metadata":{
        
      }
    }
  ],
  "metadata":{
    
  },
  "nbformat":4,
  "nbformat_minor":0
}