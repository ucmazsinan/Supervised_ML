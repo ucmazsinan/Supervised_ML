{
  "cells":[
    {
      "cell_type":"code",
      "source":[
        "import numpy as np\n",
        "import pandas as pd\n",
        "import matplotlib.pyplot as plt\n",
        "%matplotlib inline\n",
        "\n",
        "from helper import (plot_exponential_data, \n",
        "                    plot_square_normal_data)\n",
        "\n",
        "import warnings\n",
        "warnings.simplefilter(\"ignore\")"
      ],
      "execution_count":1,
      "outputs":[
        
      ],
      "metadata":{
        
      }
    },
    {
      "cell_type":"code",
      "source":[
        "from helper import boston_dataframe\n",
        "boston_data = boston_dataframe()"
      ],
      "execution_count":2,
      "outputs":[
        
      ],
      "metadata":{
        
      }
    },
    {
      "cell_type":"markdown",
      "source":[
        "In this demonstration, you will import the Boston data set to train a regression model that predicts the median value of a house. "
      ],
      "attachments":{
        
      },
      "metadata":{
        
      }
    },
    {
      "cell_type":"code",
      "source":[
        "boston_data.head(15)"
      ],
      "execution_count":3,
      "outputs":[
        {
          "data":{
            "text\/html":[
              "<div>\n",
              "<style scoped>\n",
              "    .dataframe tbody tr th:only-of-type {\n",
              "        vertical-align: middle;\n",
              "    }\n",
              "\n",
              "    .dataframe tbody tr th {\n",
              "        vertical-align: top;\n",
              "    }\n",
              "\n",
              "    .dataframe thead th {\n",
              "        text-align: right;\n",
              "    }\n",
              "<\/style>\n",
              "<table border=\"1\" class=\"dataframe\">\n",
              "  <thead>\n",
              "    <tr style=\"text-align: right;\">\n",
              "      <th><\/th>\n",
              "      <th>CRIM<\/th>\n",
              "      <th>ZN<\/th>\n",
              "      <th>INDUS<\/th>\n",
              "      <th>CHAS<\/th>\n",
              "      <th>NOX<\/th>\n",
              "      <th>RM<\/th>\n",
              "      <th>AGE<\/th>\n",
              "      <th>DIS<\/th>\n",
              "      <th>RAD<\/th>\n",
              "      <th>TAX<\/th>\n",
              "      <th>PTRATIO<\/th>\n",
              "      <th>B<\/th>\n",
              "      <th>LSTAT<\/th>\n",
              "      <th>MEDV<\/th>\n",
              "    <\/tr>\n",
              "  <\/thead>\n",
              "  <tbody>\n",
              "    <tr>\n",
              "      <th>0<\/th>\n",
              "      <td>0.00632<\/td>\n",
              "      <td>18.0<\/td>\n",
              "      <td>2.31<\/td>\n",
              "      <td>0.0<\/td>\n",
              "      <td>0.538<\/td>\n",
              "      <td>6.575<\/td>\n",
              "      <td>65.2<\/td>\n",
              "      <td>4.0900<\/td>\n",
              "      <td>1.0<\/td>\n",
              "      <td>296.0<\/td>\n",
              "      <td>15.3<\/td>\n",
              "      <td>396.90<\/td>\n",
              "      <td>4.98<\/td>\n",
              "      <td>24.0<\/td>\n",
              "    <\/tr>\n",
              "    <tr>\n",
              "      <th>1<\/th>\n",
              "      <td>0.02731<\/td>\n",
              "      <td>0.0<\/td>\n",
              "      <td>7.07<\/td>\n",
              "      <td>0.0<\/td>\n",
              "      <td>0.469<\/td>\n",
              "      <td>6.421<\/td>\n",
              "      <td>78.9<\/td>\n",
              "      <td>4.9671<\/td>\n",
              "      <td>2.0<\/td>\n",
              "      <td>242.0<\/td>\n",
              "      <td>17.8<\/td>\n",
              "      <td>396.90<\/td>\n",
              "      <td>9.14<\/td>\n",
              "      <td>21.6<\/td>\n",
              "    <\/tr>\n",
              "    <tr>\n",
              "      <th>2<\/th>\n",
              "      <td>0.02729<\/td>\n",
              "      <td>0.0<\/td>\n",
              "      <td>7.07<\/td>\n",
              "      <td>0.0<\/td>\n",
              "      <td>0.469<\/td>\n",
              "      <td>7.185<\/td>\n",
              "      <td>61.1<\/td>\n",
              "      <td>4.9671<\/td>\n",
              "      <td>2.0<\/td>\n",
              "      <td>242.0<\/td>\n",
              "      <td>17.8<\/td>\n",
              "      <td>392.83<\/td>\n",
              "      <td>4.03<\/td>\n",
              "      <td>34.7<\/td>\n",
              "    <\/tr>\n",
              "    <tr>\n",
              "      <th>3<\/th>\n",
              "      <td>0.03237<\/td>\n",
              "      <td>0.0<\/td>\n",
              "      <td>2.18<\/td>\n",
              "      <td>0.0<\/td>\n",
              "      <td>0.458<\/td>\n",
              "      <td>6.998<\/td>\n",
              "      <td>45.8<\/td>\n",
              "      <td>6.0622<\/td>\n",
              "      <td>3.0<\/td>\n",
              "      <td>222.0<\/td>\n",
              "      <td>18.7<\/td>\n",
              "      <td>394.63<\/td>\n",
              "      <td>2.94<\/td>\n",
              "      <td>33.4<\/td>\n",
              "    <\/tr>\n",
              "    <tr>\n",
              "      <th>4<\/th>\n",
              "      <td>0.06905<\/td>\n",
              "      <td>0.0<\/td>\n",
              "      <td>2.18<\/td>\n",
              "      <td>0.0<\/td>\n",
              "      <td>0.458<\/td>\n",
              "      <td>7.147<\/td>\n",
              "      <td>54.2<\/td>\n",
              "      <td>6.0622<\/td>\n",
              "      <td>3.0<\/td>\n",
              "      <td>222.0<\/td>\n",
              "      <td>18.7<\/td>\n",
              "      <td>396.90<\/td>\n",
              "      <td>5.33<\/td>\n",
              "      <td>36.2<\/td>\n",
              "    <\/tr>\n",
              "    <tr>\n",
              "      <th>5<\/th>\n",
              "      <td>0.02985<\/td>\n",
              "      <td>0.0<\/td>\n",
              "      <td>2.18<\/td>\n",
              "      <td>0.0<\/td>\n",
              "      <td>0.458<\/td>\n",
              "      <td>6.430<\/td>\n",
              "      <td>58.7<\/td>\n",
              "      <td>6.0622<\/td>\n",
              "      <td>3.0<\/td>\n",
              "      <td>222.0<\/td>\n",
              "      <td>18.7<\/td>\n",
              "      <td>394.12<\/td>\n",
              "      <td>5.21<\/td>\n",
              "      <td>28.7<\/td>\n",
              "    <\/tr>\n",
              "    <tr>\n",
              "      <th>6<\/th>\n",
              "      <td>0.08829<\/td>\n",
              "      <td>12.5<\/td>\n",
              "      <td>7.87<\/td>\n",
              "      <td>0.0<\/td>\n",
              "      <td>0.524<\/td>\n",
              "      <td>6.012<\/td>\n",
              "      <td>66.6<\/td>\n",
              "      <td>5.5605<\/td>\n",
              "      <td>5.0<\/td>\n",
              "      <td>311.0<\/td>\n",
              "      <td>15.2<\/td>\n",
              "      <td>395.60<\/td>\n",
              "      <td>12.43<\/td>\n",
              "      <td>22.9<\/td>\n",
              "    <\/tr>\n",
              "    <tr>\n",
              "      <th>7<\/th>\n",
              "      <td>0.14455<\/td>\n",
              "      <td>12.5<\/td>\n",
              "      <td>7.87<\/td>\n",
              "      <td>0.0<\/td>\n",
              "      <td>0.524<\/td>\n",
              "      <td>6.172<\/td>\n",
              "      <td>96.1<\/td>\n",
              "      <td>5.9505<\/td>\n",
              "      <td>5.0<\/td>\n",
              "      <td>311.0<\/td>\n",
              "      <td>15.2<\/td>\n",
              "      <td>396.90<\/td>\n",
              "      <td>19.15<\/td>\n",
              "      <td>27.1<\/td>\n",
              "    <\/tr>\n",
              "    <tr>\n",
              "      <th>8<\/th>\n",
              "      <td>0.21124<\/td>\n",
              "      <td>12.5<\/td>\n",
              "      <td>7.87<\/td>\n",
              "      <td>0.0<\/td>\n",
              "      <td>0.524<\/td>\n",
              "      <td>5.631<\/td>\n",
              "      <td>100.0<\/td>\n",
              "      <td>6.0821<\/td>\n",
              "      <td>5.0<\/td>\n",
              "      <td>311.0<\/td>\n",
              "      <td>15.2<\/td>\n",
              "      <td>386.63<\/td>\n",
              "      <td>29.93<\/td>\n",
              "      <td>16.5<\/td>\n",
              "    <\/tr>\n",
              "    <tr>\n",
              "      <th>9<\/th>\n",
              "      <td>0.17004<\/td>\n",
              "      <td>12.5<\/td>\n",
              "      <td>7.87<\/td>\n",
              "      <td>0.0<\/td>\n",
              "      <td>0.524<\/td>\n",
              "      <td>6.004<\/td>\n",
              "      <td>85.9<\/td>\n",
              "      <td>6.5921<\/td>\n",
              "      <td>5.0<\/td>\n",
              "      <td>311.0<\/td>\n",
              "      <td>15.2<\/td>\n",
              "      <td>386.71<\/td>\n",
              "      <td>17.10<\/td>\n",
              "      <td>18.9<\/td>\n",
              "    <\/tr>\n",
              "    <tr>\n",
              "      <th>10<\/th>\n",
              "      <td>0.22489<\/td>\n",
              "      <td>12.5<\/td>\n",
              "      <td>7.87<\/td>\n",
              "      <td>0.0<\/td>\n",
              "      <td>0.524<\/td>\n",
              "      <td>6.377<\/td>\n",
              "      <td>94.3<\/td>\n",
              "      <td>6.3467<\/td>\n",
              "      <td>5.0<\/td>\n",
              "      <td>311.0<\/td>\n",
              "      <td>15.2<\/td>\n",
              "      <td>392.52<\/td>\n",
              "      <td>20.45<\/td>\n",
              "      <td>15.0<\/td>\n",
              "    <\/tr>\n",
              "    <tr>\n",
              "      <th>11<\/th>\n",
              "      <td>0.11747<\/td>\n",
              "      <td>12.5<\/td>\n",
              "      <td>7.87<\/td>\n",
              "      <td>0.0<\/td>\n",
              "      <td>0.524<\/td>\n",
              "      <td>6.009<\/td>\n",
              "      <td>82.9<\/td>\n",
              "      <td>6.2267<\/td>\n",
              "      <td>5.0<\/td>\n",
              "      <td>311.0<\/td>\n",
              "      <td>15.2<\/td>\n",
              "      <td>396.90<\/td>\n",
              "      <td>13.27<\/td>\n",
              "      <td>18.9<\/td>\n",
              "    <\/tr>\n",
              "    <tr>\n",
              "      <th>12<\/th>\n",
              "      <td>0.09378<\/td>\n",
              "      <td>12.5<\/td>\n",
              "      <td>7.87<\/td>\n",
              "      <td>0.0<\/td>\n",
              "      <td>0.524<\/td>\n",
              "      <td>5.889<\/td>\n",
              "      <td>39.0<\/td>\n",
              "      <td>5.4509<\/td>\n",
              "      <td>5.0<\/td>\n",
              "      <td>311.0<\/td>\n",
              "      <td>15.2<\/td>\n",
              "      <td>390.50<\/td>\n",
              "      <td>15.71<\/td>\n",
              "      <td>21.7<\/td>\n",
              "    <\/tr>\n",
              "    <tr>\n",
              "      <th>13<\/th>\n",
              "      <td>0.62976<\/td>\n",
              "      <td>0.0<\/td>\n",
              "      <td>8.14<\/td>\n",
              "      <td>0.0<\/td>\n",
              "      <td>0.538<\/td>\n",
              "      <td>5.949<\/td>\n",
              "      <td>61.8<\/td>\n",
              "      <td>4.7075<\/td>\n",
              "      <td>4.0<\/td>\n",
              "      <td>307.0<\/td>\n",
              "      <td>21.0<\/td>\n",
              "      <td>396.90<\/td>\n",
              "      <td>8.26<\/td>\n",
              "      <td>20.4<\/td>\n",
              "    <\/tr>\n",
              "    <tr>\n",
              "      <th>14<\/th>\n",
              "      <td>0.63796<\/td>\n",
              "      <td>0.0<\/td>\n",
              "      <td>8.14<\/td>\n",
              "      <td>0.0<\/td>\n",
              "      <td>0.538<\/td>\n",
              "      <td>6.096<\/td>\n",
              "      <td>84.5<\/td>\n",
              "      <td>4.4619<\/td>\n",
              "      <td>4.0<\/td>\n",
              "      <td>307.0<\/td>\n",
              "      <td>21.0<\/td>\n",
              "      <td>380.02<\/td>\n",
              "      <td>10.26<\/td>\n",
              "      <td>18.2<\/td>\n",
              "    <\/tr>\n",
              "  <\/tbody>\n",
              "<\/table>\n",
              "<\/div>"
            ]
          },
          "metadata":{
            
          },
          "output_type":"display_data"
        }
      ],
      "metadata":{
        
      }
    },
    {
      "cell_type":"code",
      "source":[
        "boston_data.shape"
      ],
      "execution_count":4,
      "outputs":[
        {
          "data":{
            "text\/plain":[
              "(506, 14)"
            ]
          },
          "metadata":{
            
          },
          "output_type":"display_data"
        }
      ],
      "metadata":{
        
      }
    },
    {
      "cell_type":"markdown",
      "source":[
        "### Determining Normality"
      ],
      "attachments":{
        
      },
      "metadata":{
        
      }
    },
    {
      "cell_type":"markdown",
      "source":[
        "Making our target variable normally distributed often will lead to better results\n",
        "\n",
        "If our target is not normally distributed, we can apply a transformation to it and then fit our regression to predict the transformed values.\n",
        "\n",
        "How can we tell if our target is normally distributed? There are two ways:\n",
        "\n",
        "Visually\n",
        "Using a statistical test"
      ],
      "attachments":{
        
      },
      "metadata":{
        
      }
    },
    {
      "cell_type":"code",
      "source":[
        "boston_data.MEDV.hist()\n",
        "plt.show()"
      ],
      "execution_count":5,
      "outputs":[
        {
          "data":{
            "image\/png":"[encoded data removed]"
          },
          "metadata":{
            "image\/png":{
              
            }
          },
          "output_type":"display_data"
        }
      ],
      "metadata":{
        
      }
    },
    {
      "cell_type":"markdown",
      "source":[
        "MEDV here  right skewed because tail is longing right side although"
      ],
      "attachments":{
        
      },
      "metadata":{
        
      }
    },
    {
      "cell_type":"code",
      "source":[
        "from scipy.stats.mstats import normaltest ## D'Agostino K^2 Test"
      ],
      "execution_count":6,
      "outputs":[
        
      ],
      "metadata":{
        
      }
    },
    {
      "cell_type":"markdown",
      "source":[
        "Without getting into Bayesian vs. frequentist debates, for the purposes of this lesson, the following will suffice:\n",
        "\n",
        "* This is a statistical test that tests whether a distribution is normally distributed or not. It isn't perfect, but suffice it to say: \n",
        "    * This test outputs a \"p-value\". The _higher_ this p-value is the _closer_ the distribution is to normal.\n",
        "    * Frequentist statisticians would say that you accept that the distribution is normal (more specifically: fail to reject the null hypothesis that it is normal) if p > 0.05."
      ],
      "attachments":{
        
      },
      "metadata":{
        
      }
    },
    {
      "cell_type":"code",
      "source":[
        "normaltest(boston_data.MEDV.values)"
      ],
      "execution_count":7,
      "outputs":[
        {
          "data":{
            "text\/plain":[
              "NormaltestResult(statistic=90.9746873700967, pvalue=1.7583188871696095e-20)"
            ]
          },
          "metadata":{
            
          },
          "output_type":"display_data"
        }
      ],
      "metadata":{
        
      }
    },
    {
      "cell_type":"markdown",
      "source":[
        "p-value _extremely_ low. Our y variable we've been dealing with this whole time was not normally distributed!"
      ],
      "attachments":{
        
      },
      "metadata":{
        
      }
    },
    {
      "cell_type":"markdown",
      "source":[
        "Linear Regression assumes a normally distributed residuals which can be aided by transforming y variable. Let's try some common transformations to try and get y to be normally distributed: \n",
        "\n",
        "* Log\n",
        "* Square root\n",
        "* Box cox"
      ],
      "attachments":{
        
      },
      "metadata":{
        
      }
    },
    {
      "cell_type":"markdown",
      "source":[
        "### Testing log"
      ],
      "attachments":{
        
      },
      "metadata":{
        
      }
    },
    {
      "cell_type":"markdown",
      "source":[
        "The log transform can transform data that is significantly skewed right to be more normally distributed:"
      ],
      "attachments":{
        
      },
      "metadata":{
        
      }
    },
    {
      "cell_type":"code",
      "source":[
        "log_medv = np.log(boston_data.MEDV)"
      ],
      "execution_count":8,
      "outputs":[
        
      ],
      "metadata":{
        
      }
    },
    {
      "cell_type":"code",
      "source":[
        "log_medv.hist();"
      ],
      "execution_count":9,
      "outputs":[
        {
          "data":{
            "image\/png":"[encoded data removed]"
          },
          "metadata":{
            "image\/png":{
              
            }
          },
          "output_type":"display_data"
        }
      ],
      "metadata":{
        
      }
    },
    {
      "cell_type":"markdown",
      "source":[
        "now again, it's skewed left; so not normal "
      ],
      "attachments":{
        
      },
      "metadata":{
        
      }
    },
    {
      "cell_type":"code",
      "source":[
        "normaltest(log_medv)"
      ],
      "execution_count":10,
      "outputs":[
        {
          "data":{
            "text\/plain":[
              "NormaltestResult(statistic=17.21801696640698, pvalue=0.00018245472768345196)"
            ]
          },
          "metadata":{
            
          },
          "output_type":"display_data"
        }
      ],
      "metadata":{
        
      }
    },
    {
      "cell_type":"markdown",
      "source":[
        "So another square root transformation "
      ],
      "attachments":{
        
      },
      "metadata":{
        
      }
    },
    {
      "cell_type":"code",
      "source":[
        "sqt_medv = np.sqrt(boston_data.MEDV)"
      ],
      "execution_count":11,
      "outputs":[
        
      ],
      "metadata":{
        
      }
    },
    {
      "cell_type":"code",
      "source":[
        "plt.hist(sqt_medv);"
      ],
      "execution_count":12,
      "outputs":[
        {
          "data":{
            "image\/png":"[encoded data removed]"
          },
          "metadata":{
            "image\/png":{
              
            }
          },
          "output_type":"display_data"
        }
      ],
      "metadata":{
        
      }
    },
    {
      "cell_type":"code",
      "source":[
        "normaltest(sqt_medv)"
      ],
      "execution_count":13,
      "outputs":[
        {
          "data":{
            "text\/plain":[
              "NormaltestResult(statistic=20.487090826863067, pvalue=3.558645701429252e-05)"
            ]
          },
          "metadata":{
            
          },
          "output_type":"display_data"
        }
      ],
      "metadata":{
        
      }
    },
    {
      "cell_type":"markdown",
      "source":[
        "look like normally but not normal reject H0 hypothesis"
      ],
      "attachments":{
        
      },
      "metadata":{
        
      }
    },
    {
      "cell_type":"markdown",
      "source":[
        "## BOX-COX"
      ],
      "attachments":{
        
      },
      "metadata":{
        
      }
    },
    {
      "cell_type":"markdown",
      "source":[
        "The box cox transformation is a parametrized transformation that tries to get distributions \"as close to a normal distribution as possible\".\n",
        "\n",
        "It is defined as:\n",
        "\n",
        "$$ \\text{boxcox}(y_i) = \\frac{y_i^{\\lambda} - 1}{\\lambda} $$\n",
        "\n",
        "You can think of as a generalization of the square root function: the square root function uses the exponent of 0.5, but box cox lets its exponent vary so it can find the best one."
      ],
      "attachments":{
        
      },
      "metadata":{
        
      }
    },
    {
      "cell_type":"code",
      "source":[
        "from scipy.stats import boxcox"
      ],
      "execution_count":14,
      "outputs":[
        
      ],
      "metadata":{
        
      }
    },
    {
      "cell_type":"code",
      "source":[
        "bc_result = boxcox(boston_data.MEDV)\n",
        "boxcox_medv = bc_result[0]\n",
        "lam = bc_result[1]"
      ],
      "execution_count":15,
      "outputs":[
        
      ],
      "metadata":{
        
      }
    },
    {
      "cell_type":"code",
      "source":[
        "boston_data.MEDV.hist();"
      ],
      "execution_count":16,
      "outputs":[
        {
          "data":{
            "image\/png":"[encoded data removed]"
          },
          "metadata":{
            "image\/png":{
              
            }
          },
          "output_type":"display_data"
        }
      ],
      "metadata":{
        
      }
    },
    {
      "cell_type":"code",
      "source":[
        "plt.hist(boxcox_medv);"
      ],
      "execution_count":17,
      "outputs":[
        {
          "data":{
            "image\/png":"[encoded data removed]"
          },
          "metadata":{
            "image\/png":{
              
            }
          },
          "output_type":"display_data"
        }
      ],
      "metadata":{
        
      }
    },
    {
      "cell_type":"code",
      "source":[
        "normaltest(boxcox_medv)"
      ],
      "execution_count":18,
      "outputs":[
        {
          "data":{
            "text\/plain":[
              "NormaltestResult(statistic=4.513528775533045, pvalue=0.1046886692817602)"
            ]
          },
          "metadata":{
            
          },
          "output_type":"display_data"
        }
      ],
      "metadata":{
        
      }
    },
    {
      "cell_type":"markdown",
      "source":[
        "now we target variable has a normal distribution. because p > 0.05 H0 not reject"
      ],
      "attachments":{
        
      },
      "metadata":{
        
      }
    },
    {
      "cell_type":"code",
      "source":[
        "from sklearn.linear_model import LinearRegression\n",
        "from sklearn.metrics import r2_score\n",
        "from sklearn.model_selection import train_test_split\n",
        "from sklearn.preprocessing import (StandardScaler, PolynomialFeatures)"
      ],
      "execution_count":19,
      "outputs":[
        
      ],
      "metadata":{
        
      }
    },
    {
      "cell_type":"code",
      "source":[
        "lr = LinearRegression()"
      ],
      "execution_count":20,
      "outputs":[
        
      ],
      "metadata":{
        
      }
    },
    {
      "cell_type":"code",
      "source":[
        "boston_data = boston_dataframe()"
      ],
      "execution_count":22,
      "outputs":[
        
      ],
      "metadata":{
        
      }
    },
    {
      "cell_type":"markdown",
      "source":[
        "**Create X and y**"
      ],
      "attachments":{
        
      },
      "metadata":{
        
      }
    },
    {
      "cell_type":"code",
      "source":[
        "y_col = \"MEDV\" #Target depended variable\n",
        "X = boston_data.drop(y_col,axis=1)\n",
        "Y = boston_data[y_col]"
      ],
      "execution_count":25,
      "outputs":[
        
      ],
      "metadata":{
        
      }
    },
    {
      "cell_type":"markdown",
      "source":[
        "**Create Polynomial Features**"
      ],
      "attachments":{
        
      },
      "metadata":{
        
      }
    },
    {
      "cell_type":"code",
      "source":[
        "pf = PolynomialFeatures(degree=2, include_bias=False)\n",
        "X_pf = pf.fit_transform(X)"
      ],
      "execution_count":27,
      "outputs":[
        
      ],
      "metadata":{
        
      }
    },
    {
      "cell_type":"markdown",
      "source":[
        "**Train test split**"
      ],
      "attachments":{
        
      },
      "metadata":{
        
      }
    },
    {
      "cell_type":"code",
      "source":[
        "X_train, X_test, y_train, y_test = train_test_split(X_pf, Y, test_size=.3, random_state=21412)"
      ],
      "execution_count":29,
      "outputs":[
        
      ],
      "metadata":{
        
      }
    },
    {
      "cell_type":"markdown",
      "source":[
        "**Fit `StandardScaler` on `X_train` as before**"
      ],
      "attachments":{
        
      },
      "metadata":{
        
      }
    },
    {
      "cell_type":"code",
      "source":[
        "s = StandardScaler()\n",
        "X_train_s = s.fit_transform(X_train)"
      ],
      "execution_count":30,
      "outputs":[
        
      ],
      "metadata":{
        
      }
    },
    {
      "cell_type":"code",
      "source":[
        "bc_result2 = boxcox(y_train)\n",
        "y_train_bc = bc_result2[0]\n",
        "lam2 = bc_result2[1]"
      ],
      "execution_count":31,
      "outputs":[
        
      ],
      "metadata":{
        
      }
    },
    {
      "cell_type":"code",
      "source":[
        "y_train_bc.shape"
      ],
      "execution_count":32,
      "outputs":[
        {
          "data":{
            "text\/plain":[
              "(354,)"
            ]
          },
          "metadata":{
            
          },
          "output_type":"display_data"
        }
      ],
      "metadata":{
        
      }
    },
    {
      "cell_type":"code",
      "source":[
        "lr.fit(X_train_s, y_train_bc)\n",
        "X_test_s = s.transform(X_test)\n",
        "y_pred_bc = lr.predict(X_test_s)"
      ],
      "execution_count":33,
      "outputs":[
        
      ],
      "metadata":{
        
      }
    },
    {
      "cell_type":"markdown",
      "source":[
        "#### Inverse transform\n",
        "Every transformation has an inverse transformation. The inverse transformation of $f(x) = \\sqrt{x}$ is $f^{-1}(x) = x^2$, for example. Box cox has an inverse transformation as well: notice that we have to pass in the lambda value that we found from before:"
      ],
      "attachments":{
        
      },
      "metadata":{
        
      }
    },
    {
      "cell_type":"code",
      "source":[
        "from scipy.special import inv_boxcox"
      ],
      "execution_count":35,
      "outputs":[
        
      ],
      "metadata":{
        
      }
    },
    {
      "cell_type":"code",
      "source":[
        "# code from above\n",
        "bc_result = boxcox(boston_data.MEDV)\n",
        "boxcox_medv = bc_result[0]\n",
        "lam = bc_result[1]"
      ],
      "execution_count":36,
      "outputs":[
        
      ],
      "metadata":{
        
      }
    },
    {
      "cell_type":"code",
      "source":[
        "inv_boxcox(boxcox_medv, lam)[:10]"
      ],
      "execution_count":37,
      "outputs":[
        {
          "data":{
            "text\/html":[
              
            ]
          },
          "metadata":{
            
          },
          "output_type":"display_data"
        }
      ],
      "metadata":{
        
      }
    },
    {
      "cell_type":"code",
      "source":[
        "boston_data.MEDV.values[:10]"
      ],
      "execution_count":38,
      "outputs":[
        {
          "data":{
            "text\/html":[
              
            ]
          },
          "metadata":{
            
          },
          "output_type":"display_data"
        }
      ],
      "metadata":{
        
      }
    },
    {
      "cell_type":"code",
      "source":[
        "y_pred_trans = inv_boxcox(y_pred_bc,lam2)\n",
        "r2_score(y_pred_trans, y_test)"
      ],
      "execution_count":39,
      "outputs":[
        {
          "data":{
            "text\/plain":[
              "0.7341688926919009"
            ]
          },
          "metadata":{
            
          },
          "output_type":"display_data"
        }
      ],
      "metadata":{
        
      }
    },
    {
      "cell_type":"code",
      "source":[
        "\n",
        "lr = LinearRegression()\n",
        "lr.fit(X_train_s,y_train)\n",
        "lr_pred = lr.predict(X_test_s)\n",
        "r2_score(lr_pred,y_test)"
      ],
      "execution_count":40,
      "outputs":[
        {
          "data":{
            "text\/plain":[
              "0.756357857172093"
            ]
          },
          "metadata":{
            
          },
          "output_type":"display_data"
        }
      ],
      "metadata":{
        
      }
    }
  ],
  "metadata":{
    
  },
  "nbformat":4,
  "nbformat_minor":0
}