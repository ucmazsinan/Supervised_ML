{
  "cells":[
    {
      "cell_type":"code",
      "source":[
        "import numpy as np \n",
        "import pandas as pd \n",
        "import matplotlib.pyplot as plt \n",
        "import pickle\n",
        "\n",
        "from sklearn.preprocessing import StandardScaler, PolynomialFeatures\n",
        "from sklearn.model_selection import cross_val_predict, KFold\n",
        "from sklearn.linear_model import Lasso, Ridge, LinearRegression\n",
        "from sklearn.metrics import r2_score\n",
        "from sklearn.pipeline import Pipeline"
      ],
      "execution_count":1,
      "outputs":[
        
      ],
      "metadata":{
        
      }
    },
    {
      "cell_type":"code",
      "source":[
        "path = \"hBigCaU0QRiYoAmlNGEYjA_94c89106c77a45a9a75a0234ad42f966_boston_housing_clean.pickle\"\n",
        "boston = pickle.load(open(path, \"rb\"))"
      ],
      "execution_count":2,
      "outputs":[
        
      ],
      "metadata":{
        
      }
    },
    {
      "cell_type":"code",
      "source":[
        "boston.keys()"
      ],
      "execution_count":3,
      "outputs":[
        {
          "data":{
            "text\/plain":[
              "dict_keys(['dataframe', 'description'])"
            ]
          },
          "metadata":{
            
          },
          "output_type":"display_data"
        }
      ],
      "metadata":{
        
      }
    },
    {
      "cell_type":"code",
      "source":[
        "boston_data = boston[\"dataframe\"]\n",
        "boston_desc = boston[\"description\"]"
      ],
      "execution_count":4,
      "outputs":[
        
      ],
      "metadata":{
        
      }
    },
    {
      "cell_type":"code",
      "source":[
        "boston_data.head()"
      ],
      "execution_count":5,
      "outputs":[
        {
          "data":{
            "text\/html":[
              "<div>\n",
              "<style scoped>\n",
              "    .dataframe tbody tr th:only-of-type {\n",
              "        vertical-align: middle;\n",
              "    }\n",
              "\n",
              "    .dataframe tbody tr th {\n",
              "        vertical-align: top;\n",
              "    }\n",
              "\n",
              "    .dataframe thead th {\n",
              "        text-align: right;\n",
              "    }\n",
              "<\/style>\n",
              "<table border=\"1\" class=\"dataframe\">\n",
              "  <thead>\n",
              "    <tr style=\"text-align: right;\">\n",
              "      <th><\/th>\n",
              "      <th>CRIM<\/th>\n",
              "      <th>ZN<\/th>\n",
              "      <th>INDUS<\/th>\n",
              "      <th>CHAS<\/th>\n",
              "      <th>NOX<\/th>\n",
              "      <th>RM<\/th>\n",
              "      <th>AGE<\/th>\n",
              "      <th>DIS<\/th>\n",
              "      <th>RAD<\/th>\n",
              "      <th>TAX<\/th>\n",
              "      <th>PTRATIO<\/th>\n",
              "      <th>B<\/th>\n",
              "      <th>LSTAT<\/th>\n",
              "      <th>MEDV<\/th>\n",
              "    <\/tr>\n",
              "  <\/thead>\n",
              "  <tbody>\n",
              "    <tr>\n",
              "      <th>0<\/th>\n",
              "      <td>0.00632<\/td>\n",
              "      <td>18.0<\/td>\n",
              "      <td>2.31<\/td>\n",
              "      <td>0.0<\/td>\n",
              "      <td>0.538<\/td>\n",
              "      <td>6.575<\/td>\n",
              "      <td>65.2<\/td>\n",
              "      <td>4.0900<\/td>\n",
              "      <td>1.0<\/td>\n",
              "      <td>296.0<\/td>\n",
              "      <td>15.3<\/td>\n",
              "      <td>396.90<\/td>\n",
              "      <td>4.98<\/td>\n",
              "      <td>24.0<\/td>\n",
              "    <\/tr>\n",
              "    <tr>\n",
              "      <th>1<\/th>\n",
              "      <td>0.02731<\/td>\n",
              "      <td>0.0<\/td>\n",
              "      <td>7.07<\/td>\n",
              "      <td>0.0<\/td>\n",
              "      <td>0.469<\/td>\n",
              "      <td>6.421<\/td>\n",
              "      <td>78.9<\/td>\n",
              "      <td>4.9671<\/td>\n",
              "      <td>2.0<\/td>\n",
              "      <td>242.0<\/td>\n",
              "      <td>17.8<\/td>\n",
              "      <td>396.90<\/td>\n",
              "      <td>9.14<\/td>\n",
              "      <td>21.6<\/td>\n",
              "    <\/tr>\n",
              "    <tr>\n",
              "      <th>2<\/th>\n",
              "      <td>0.02729<\/td>\n",
              "      <td>0.0<\/td>\n",
              "      <td>7.07<\/td>\n",
              "      <td>0.0<\/td>\n",
              "      <td>0.469<\/td>\n",
              "      <td>7.185<\/td>\n",
              "      <td>61.1<\/td>\n",
              "      <td>4.9671<\/td>\n",
              "      <td>2.0<\/td>\n",
              "      <td>242.0<\/td>\n",
              "      <td>17.8<\/td>\n",
              "      <td>392.83<\/td>\n",
              "      <td>4.03<\/td>\n",
              "      <td>34.7<\/td>\n",
              "    <\/tr>\n",
              "    <tr>\n",
              "      <th>3<\/th>\n",
              "      <td>0.03237<\/td>\n",
              "      <td>0.0<\/td>\n",
              "      <td>2.18<\/td>\n",
              "      <td>0.0<\/td>\n",
              "      <td>0.458<\/td>\n",
              "      <td>6.998<\/td>\n",
              "      <td>45.8<\/td>\n",
              "      <td>6.0622<\/td>\n",
              "      <td>3.0<\/td>\n",
              "      <td>222.0<\/td>\n",
              "      <td>18.7<\/td>\n",
              "      <td>394.63<\/td>\n",
              "      <td>2.94<\/td>\n",
              "      <td>33.4<\/td>\n",
              "    <\/tr>\n",
              "    <tr>\n",
              "      <th>4<\/th>\n",
              "      <td>0.06905<\/td>\n",
              "      <td>0.0<\/td>\n",
              "      <td>2.18<\/td>\n",
              "      <td>0.0<\/td>\n",
              "      <td>0.458<\/td>\n",
              "      <td>7.147<\/td>\n",
              "      <td>54.2<\/td>\n",
              "      <td>6.0622<\/td>\n",
              "      <td>3.0<\/td>\n",
              "      <td>222.0<\/td>\n",
              "      <td>18.7<\/td>\n",
              "      <td>396.90<\/td>\n",
              "      <td>5.33<\/td>\n",
              "      <td>36.2<\/td>\n",
              "    <\/tr>\n",
              "  <\/tbody>\n",
              "<\/table>\n",
              "<\/div>"
            ]
          },
          "metadata":{
            
          },
          "output_type":"display_data"
        }
      ],
      "metadata":{
        
      }
    },
    {
      "cell_type":"code",
      "source":[
        "boston_data.MEDV.hist();"
      ],
      "execution_count":6,
      "outputs":[
        {
          "data":{
            "image\/png":"[encoded data removed]"
          },
          "metadata":{
            "image\/png":{
              
            }
          },
          "output_type":"display_data"
        }
      ],
      "metadata":{
        
      }
    },
    {
      "cell_type":"code",
      "source":[
        "X = boston_data.drop(\"MEDV\",axis=1)\n",
        "y = boston_data.MEDV"
      ],
      "execution_count":7,
      "outputs":[
        
      ],
      "metadata":{
        
      }
    },
    {
      "cell_type":"code",
      "source":[
        "kf = KFold(shuffle=True, n_splits=3, random_state=98625)"
      ],
      "execution_count":8,
      "outputs":[
        
      ],
      "metadata":{
        
      }
    },
    {
      "cell_type":"code",
      "source":[
        "for train_index, test_index in kf.split(X):\n",
        "    print(\"train index\",train_index[:10], len(train_index))\n",
        "    print(\"test index\", test_index[:10], len(test_index))\n",
        "    print(\"\")"
      ],
      "execution_count":9,
      "outputs":[
        {
          "name":"stdout",
          "text":[
            "train index [ 1  2  3  4  6  7  8  9 12 14] 337\n",
            "test index [ 0  5 10 11 13 21 22 23 27 29] 169\n",
            "\n",
            "train index [ 0  2  3  5  9 10 11 13 15 17] 337\n",
            "test index [ 1  4  6  7  8 12 14 16 18 19] 169\n",
            "\n",
            "train index [ 0  1  4  5  6  7  8 10 11 12] 338\n",
            "test index [ 2  3  9 15 17 20 24 25 28 34] 168\n",
            "\n"
          ],
          "output_type":"stream"
        }
      ],
      "metadata":{
        
      }
    },
    {
      "cell_type":"code",
      "source":[
        "scores = []\n",
        "lr = LinearRegression()\n",
        "\n",
        "for train_index, test_index in kf.split(X):\n",
        "    X_train, X_test, y_train, y_test = (X.iloc[train_index,:],\n",
        "                                        X.iloc[test_index,:],\n",
        "                                        y[train_index],\n",
        "                                        y[test_index])\n",
        "    lr.fit(X_train, y_train)\n",
        "    y_pre = lr.predict(X_test)\n",
        "    score = r2_score(y_test.values, y_pre)\n",
        "    scores.append(score)\n",
        "\n",
        "scores"
      ],
      "execution_count":10,
      "outputs":[
        {
          "data":{
            "text\/plain":[
              "[0.6648344494904415, 0.7026963058682597, 0.7464441436242684]"
            ]
          },
          "metadata":{
            
          },
          "output_type":"display_data"
        }
      ],
      "metadata":{
        
      }
    },
    {
      "cell_type":"markdown",
      "source":[
        "## Scaling"
      ],
      "attachments":{
        
      },
      "metadata":{
        
      }
    },
    {
      "cell_type":"code",
      "source":[
        "scores = []\n",
        "\n",
        "lr = LinearRegression()\n",
        "s = StandardScaler()\n",
        "\n",
        "for test_index, train_index in kf.split(X):\n",
        "    X_train, X_test, y_train, y_test = (X.iloc[train_index,:],\n",
        "                                        X.iloc[test_index,:],\n",
        "                                        y[train_index],\n",
        "                                        y[test_index])\n",
        "    \n",
        "    X_train_s = s.fit_transform(X_train)\n",
        "    lr.fit(X_train_s, y_train)\n",
        "\n",
        "    X_test_s = s.transform(X_test)\n",
        "    y_pred = lr.predict(X_test_s)\n",
        "\n",
        "    score = r2_score(y_test.values, y_pred)\n",
        "    scores.append(score)\n",
        "\n",
        "\n",
        "scores"
      ],
      "execution_count":11,
      "outputs":[
        {
          "data":{
            "text\/plain":[
              "[0.6897335833466052, 0.6973559967429398, 0.6510192257395004]"
            ]
          },
          "metadata":{
            
          },
          "output_type":"display_data"
        }
      ],
      "metadata":{
        
      }
    },
    {
      "cell_type":"markdown",
      "source":[
        "### `Pipeline` and `cross_val_predict`\n",
        "`Pipeline` lets you chain together multiple operators on your data that both have a `fit` method."
      ],
      "attachments":{
        
      },
      "metadata":{
        
      }
    },
    {
      "cell_type":"code",
      "source":[
        "s = StandardScaler()\n",
        "lr = LinearRegression()"
      ],
      "execution_count":12,
      "outputs":[
        
      ],
      "metadata":{
        
      }
    },
    {
      "cell_type":"markdown",
      "source":[
        "### Combine multiple processing steps into a `Pipeline`\n",
        "\n",
        "A pipeline contains a series of steps, where a step is (\"name of step\", actual_model). The \"name of step\" string is only used to help you identify which step you are on, and to allow you to specify parameters at that step.  "
      ],
      "attachments":{
        
      },
      "metadata":{
        
      }
    },
    {
      "cell_type":"code",
      "source":[
        "estimator = Pipeline([(\"scaler\", s),(\"regression\", lr)])"
      ],
      "execution_count":13,
      "outputs":[
        
      ],
      "metadata":{
        
      }
    },
    {
      "cell_type":"markdown",
      "source":[
        "### `cross_val_predict`\n",
        "\n",
        "[`cross_val_predict`](http:\/\/scikit-learn.org\/stable\/modules\/generated\/sklearn.model_selection.cross_val_predict.html) is a function that does K-fold cross validation for us, appropriately fitting and transforming at every step of the way."
      ],
      "attachments":{
        
      },
      "metadata":{
        
      }
    },
    {
      "cell_type":"code",
      "source":[
        "kf"
      ],
      "execution_count":14,
      "outputs":[
        {
          "data":{
            "text\/plain":[
              "KFold(n_splits=3, random_state=98625, shuffle=True)"
            ]
          },
          "metadata":{
            
          },
          "output_type":"display_data"
        }
      ],
      "metadata":{
        
      }
    },
    {
      "cell_type":"code",
      "source":[
        "predictions  = cross_val_predict(estimator,X, y, cv=kf)"
      ],
      "execution_count":15,
      "outputs":[
        
      ],
      "metadata":{
        
      }
    },
    {
      "cell_type":"code",
      "source":[
        "r2_score(y, predictions)"
      ],
      "execution_count":16,
      "outputs":[
        {
          "data":{
            "text\/plain":[
              "0.7041986698315825"
            ]
          },
          "metadata":{
            
          },
          "output_type":"display_data"
        }
      ],
      "metadata":{
        
      }
    },
    {
      "cell_type":"code",
      "source":[
        "np.mean(scores)"
      ],
      "execution_count":17,
      "outputs":[
        {
          "data":{
            "text\/plain":[
              "0.6793696019430152"
            ]
          },
          "metadata":{
            
          },
          "output_type":"display_data"
        }
      ],
      "metadata":{
        
      }
    },
    {
      "cell_type":"markdown",
      "source":[
        "Note that `cross_val_predict` doesn't use the same model for all steps; the predictions for each row are made when that row is in the validation set. We really have the collected results of 3 (i.e. `kf.num_splits`) different models. \n",
        "\n",
        "When we are done, `estimator` is still not fitted. If we want to predict on _new_ data, we still have to train our `estimator`. "
      ],
      "attachments":{
        
      },
      "metadata":{
        
      }
    },
    {
      "cell_type":"markdown",
      "source":[
        "## Hyperparameter tuning\n",
        "### Definition\n",
        "\n",
        "**Hyperparameter tuning** involves using cross validation (or train-test split) to determine which hyperparameters are most likely to generate a model that _generalizes_ well outside of your sample.\n",
        "\n",
        "### Mechanics\n",
        "\n",
        "We can generate an exponentially spaces range of values using the numpy [`geomspace`](https:\/\/docs.scipy.org\/doc\/numpy\/reference\/generated\/numpy.geomspace.html#numpy.geomspace) function.\n",
        "\n",
        "```python\n",
        "np.geomspace(1, 1000, num=4)\n",
        "```\n",
        "\n",
        "produces:\n",
        "\n",
        "```\n",
        "array([    1.,    10.,   100.,  1000.])\n",
        "```\n",
        "\n",
        "Use this function to generate a list of length 10 called `alphas` for hyperparameter tuning:"
      ],
      "attachments":{
        
      },
      "metadata":{
        
      }
    },
    {
      "cell_type":"code",
      "source":[
        "alphas = np.geomspace(1e-9, 1e0, 10)\n",
        "alphas"
      ],
      "execution_count":18,
      "outputs":[
        {
          "data":{
            "text\/html":[
              
            ]
          },
          "metadata":{
            
          },
          "output_type":"display_data"
        }
      ],
      "metadata":{
        
      }
    },
    {
      "cell_type":"markdown",
      "source":[
        "The code below tunes the `alpha` hyperparameter for Lasso regression."
      ],
      "attachments":{
        
      },
      "metadata":{
        
      }
    },
    {
      "cell_type":"code",
      "source":[
        "scores = []\n",
        "coefs = []\n",
        "\n",
        "for alpha in alphas:\n",
        "    las = Lasso(alpha = alpha, max_iter=10000)\n",
        "\n",
        "    estimator = Pipeline([(\"scaler\",s),(\"lasso reg\",las)])\n",
        "\n",
        "    predictions = cross_val_predict(estimator, X, y, cv=kf)\n",
        "\n",
        "    score = r2_score(y,predictions)\n",
        "\n",
        "    scores.append(score)"
      ],
      "execution_count":20,
      "outputs":[
        
      ],
      "metadata":{
        
      }
    },
    {
      "cell_type":"code",
      "source":[
        "list(zip(alphas, scores))"
      ],
      "execution_count":21,
      "outputs":[
        {
          "data":{
            "text\/plain":[
              "[(1e-09, 0.7041986698539051),\n",
              " (1e-08, 0.7041986700760916),\n",
              " (1e-07, 0.7041986720844802),\n",
              " (1e-06, 0.704198694306206),\n",
              " (1e-05, 0.7041988955640341),\n",
              " (0.0001, 0.7042010824403254),\n",
              " (0.001, 0.7042203638056167),\n",
              " (0.01, 0.7044421032993815),\n",
              " (0.1, 0.6995835237673349),\n",
              " (1.0, 0.653793117896433)]"
            ]
          },
          "metadata":{
            
          },
          "output_type":"display_data"
        }
      ],
      "metadata":{
        
      }
    },
    {
      "cell_type":"code",
      "source":[
        "Lasso(alpha = 1e-6).fit(X, y).coef_"
      ],
      "execution_count":22,
      "outputs":[
        {
          "data":{
            "text\/html":[
              
            ]
          },
          "metadata":{
            
          },
          "output_type":"display_data"
        }
      ],
      "metadata":{
        
      }
    },
    {
      "cell_type":"code",
      "source":[
        "Lasso(alpha = 1).fit(X, y).coef_"
      ],
      "execution_count":23,
      "outputs":[
        {
          "data":{
            "text\/html":[
              
            ]
          },
          "metadata":{
            
          },
          "output_type":"display_data"
        }
      ],
      "metadata":{
        
      }
    },
    {
      "cell_type":"code",
      "source":[
        "plt.figure(figsize=(16,9))\n",
        "plt.semilogx(alphas, scores, \"-o\")\n",
        "plt.xlabel('$\\\\alpha$')\n",
        "plt.ylabel('$R^2$');"
      ],
      "execution_count":24,
      "outputs":[
        {
          "data":{
            "image\/png":"[encoded data removed]"
          },
          "metadata":{
            "image\/png":{
              
            }
          },
          "output_type":"display_data"
        }
      ],
      "metadata":{
        
      }
    },
    {
      "cell_type":"markdown",
      "source":[
        "### Exercise\n",
        "\n",
        "Add `PolynomialFeatures` to this `Pipeline`, and re-run the cross validation with the `PolynomialFeatures` added.\n",
        "\n",
        "**Hint #1:** pipelines process input from first to last. Think about the order that it would make sense to add Polynomial Features to the data in sequence and add them in the appropriate place in the pipeline.\n",
        "\n",
        "**Hint #2:** you should see a significant increase in cross validation accuracy from doing this"
      ],
      "attachments":{
        
      },
      "metadata":{
        
      }
    },
    {
      "cell_type":"code",
      "source":[
        "pf = PolynomialFeatures(degree=3)\n",
        "scores = []\n",
        "alphas = np.geomspace(0.01,1,30)\n",
        "for alpha in alphas:\n",
        "    las = Lasso(alpha=alpha, max_iter=10000)\n",
        "\n",
        "    estimator = Pipeline([\n",
        "        (\"scaler\", s),\n",
        "        (\"make_higher_degree\", pf),\n",
        "        (\"lasso_regression\", las)])\n",
        "\n",
        "    predictions = cross_val_predict(estimator, X, y, cv=kf)\n",
        "    score = r2_score(y,predictions)\n",
        "    scores.append(score)"
      ],
      "execution_count":40,
      "outputs":[
        {
          "name":"stderr",
          "text":[
            "\/opt\/python\/envs\/default\/lib\/python3.8\/site-packages\/sklearn\/linear_model\/_coordinate_descent.py:645: ConvergenceWarning: Objective did not converge. You might want to increase the number of iterations, check the scale of the features or consider increasing regularisation. Duality gap: 1.212e+02, tolerance: 2.695e+00\n",
            "  model = cd_fast.enet_coordinate_descent(\n",
            "\/opt\/python\/envs\/default\/lib\/python3.8\/site-packages\/sklearn\/linear_model\/_coordinate_descent.py:645: ConvergenceWarning: Objective did not converge. You might want to increase the number of iterations, check the scale of the features or consider increasing regularisation. Duality gap: 3.037e+00, tolerance: 2.824e+00\n",
            "  model = cd_fast.enet_coordinate_descent(\n",
            "\/opt\/python\/envs\/default\/lib\/python3.8\/site-packages\/sklearn\/linear_model\/_coordinate_descent.py:645: ConvergenceWarning: Objective did not converge. You might want to increase the number of iterations, check the scale of the features or consider increasing regularisation. Duality gap: 4.445e+00, tolerance: 3.005e+00\n",
            "  model = cd_fast.enet_coordinate_descent(\n",
            "\/opt\/python\/envs\/default\/lib\/python3.8\/site-packages\/sklearn\/linear_model\/_coordinate_descent.py:645: ConvergenceWarning: Objective did not converge. You might want to increase the number of iterations, check the scale of the features or consider increasing regularisation. Duality gap: 1.168e+02, tolerance: 2.695e+00\n",
            "  model = cd_fast.enet_coordinate_descent(\n",
            "\/opt\/python\/envs\/default\/lib\/python3.8\/site-packages\/sklearn\/linear_model\/_coordinate_descent.py:645: ConvergenceWarning: Objective did not converge. You might want to increase the number of iterations, check the scale of the features or consider increasing regularisation. Duality gap: 8.614e+01, tolerance: 2.695e+00\n",
            "  model = cd_fast.enet_coordinate_descent(\n",
            "\/opt\/python\/envs\/default\/lib\/python3.8\/site-packages\/sklearn\/linear_model\/_coordinate_descent.py:645: ConvergenceWarning: Objective did not converge. You might want to increase the number of iterations, check the scale of the features or consider increasing regularisation. Duality gap: 5.657e+01, tolerance: 2.695e+00\n",
            "  model = cd_fast.enet_coordinate_descent(\n",
            "\/opt\/python\/envs\/default\/lib\/python3.8\/site-packages\/sklearn\/linear_model\/_coordinate_descent.py:645: ConvergenceWarning: Objective did not converge. You might want to increase the number of iterations, check the scale of the features or consider increasing regularisation. Duality gap: 3.630e+01, tolerance: 2.695e+00\n",
            "  model = cd_fast.enet_coordinate_descent(\n",
            "\/opt\/python\/envs\/default\/lib\/python3.8\/site-packages\/sklearn\/linear_model\/_coordinate_descent.py:645: ConvergenceWarning: Objective did not converge. You might want to increase the number of iterations, check the scale of the features or consider increasing regularisation. Duality gap: 5.130e+00, tolerance: 2.695e+00\n",
            "  model = cd_fast.enet_coordinate_descent(\n"
          ],
          "output_type":"stream"
        }
      ],
      "metadata":{
        
      }
    },
    {
      "cell_type":"code",
      "source":[
        "plt.semilogx(alphas, scores,\"-o\");"
      ],
      "execution_count":41,
      "outputs":[
        {
          "data":{
            "image\/png":"[encoded data removed]"
          },
          "metadata":{
            "image\/png":{
              
            }
          },
          "output_type":"display_data"
        }
      ],
      "metadata":{
        
      }
    },
    {
      "cell_type":"code",
      "source":[
        "best_est = Pipeline([\n",
        "                     (\"scaler\",s),\n",
        "                     (\"make_higher_degree\",PolynomialFeatures(degree=2)),\n",
        "                     (\"Lasso_reg\",Lasso(alpha = 0.09))\n",
        "])\n",
        "\n",
        "\n",
        "print(f'{best_est.fit(X,y)}\\n{best_est.score(X,y)}')"
      ],
      "execution_count":60,
      "outputs":[
        {
          "name":"stdout",
          "text":[
            "Pipeline(steps=[('scaler', StandardScaler()),\n",
            "                ('make_higher_degree', PolynomialFeatures()),\n",
            "                ('Lasso_reg', Lasso(alpha=0.09))])\n",
            "0.8933201803825673\n"
          ],
          "output_type":"stream"
        }
      ],
      "metadata":{
        
      }
    },
    {
      "cell_type":"code",
      "source":[
        "best_est.named_steps[\"Lasso_reg\"].coef_"
      ],
      "execution_count":61,
      "outputs":[
        {
          "data":{
            "text\/html":[
              
            ]
          },
          "metadata":{
            
          },
          "output_type":"display_data"
        }
      ],
      "metadata":{
        
      }
    },
    {
      "cell_type":"markdown",
      "source":[
        "### Exercise\n",
        "\n",
        "Do the same, but with `Ridge` regression \n",
        "\n",
        "Which model, `Ridge` or `Lasso`, performs best with its optimal hyperparameters on the Boston dataset?"
      ],
      "attachments":{
        
      },
      "metadata":{
        
      }
    },
    {
      "cell_type":"code",
      "source":[
        "pf = PolynomialFeatures(degree=2)\n",
        "alphas = np.geomspace(0.5, 2, 25)\n",
        "scores = []\n",
        "\n",
        "for alpha in alphas:\n",
        "    rl = Ridge(alpha = alpha, max_iter=159123)\n",
        "\n",
        "    estimator = Pipeline([\n",
        "    (\"scaler\",s),\n",
        "    (\"polynomial\",pf),\n",
        "    (\"ridge\",rl)\n",
        "    ])\n",
        "\n",
        "    predictions = cross_val_predict(estimator, X, y, cv=kf)\n",
        "    score = r2_score(y,predictions)\n",
        "    scores.append(score)\n",
        "\n",
        "plt.plot(alphas,scores, \"-o\");"
      ],
      "execution_count":63,
      "outputs":[
        {
          "data":{
            "image\/png":"[encoded data removed]"
          },
          "metadata":{
            "image\/png":{
              
            }
          },
          "output_type":"display_data"
        }
      ],
      "metadata":{
        
      }
    },
    {
      "cell_type":"markdown",
      "source":[
        "Now, for whatever your best overall hyperparameter was: \n",
        "\n",
        "* Standardize the data\n",
        "* Fit and predict on the entire dataset\n",
        "* See what the largest coefficients were\n",
        "    * Hint: use \n",
        "    ```python\n",
        "    dict(zip(model.coef_, pf.get_feature_names()))\n",
        "    ```\n",
        "    for your model `model` to get the feature names from `PolynomialFeatures`.\n",
        "    \n",
        "    Then, use\n",
        "    ```python\n",
        "    dict(zip(list(range(len(X.columns.values))), X.columns.values))\n",
        "    ```\n",
        "    \n",
        "    to see which features in the `PolynomialFeatures` DataFrame correspond to which columns in the original DataFrame."
      ],
      "attachments":{
        
      },
      "metadata":{
        
      }
    },
    {
      "cell_type":"code",
      "source":[
        "best_est = Pipeline([(\"scaler\",s),\n",
        "(\"polynomial\",PolynomialFeatures(degree = 2)),\n",
        "(\"ridge\", Ridge(alpha = 0.785 ))])\n",
        "\n",
        "best_est.fit(X,y)\n",
        "best_est.score(X,y)"
      ],
      "execution_count":64,
      "outputs":[
        {
          "data":{
            "text\/plain":[
              "0.927427938685395"
            ]
          },
          "metadata":{
            
          },
          "output_type":"display_data"
        }
      ],
      "metadata":{
        
      }
    },
    {
      "cell_type":"code",
      "source":[
        "df_importances = pd.DataFrame(zip(best_est.named_steps[\"polynomial\"].get_feature_names(),\n",
        "                            best_est.named_steps[\"ridge\"].coef_))"
      ],
      "execution_count":66,
      "outputs":[
        
      ],
      "metadata":{
        
      }
    },
    {
      "cell_type":"code",
      "source":[
        "colnames_dict = dict(zip(list(range(len(X.columns.values))),X.columns.values))"
      ],
      "execution_count":67,
      "outputs":[
        
      ],
      "metadata":{
        
      }
    },
    {
      "cell_type":"code",
      "source":[
        "colnames_dict"
      ],
      "execution_count":69,
      "outputs":[
        {
          "data":{
            "text\/plain":[
              "{0: 'CRIM',\n",
              " 1: 'ZN',\n",
              " 2: 'INDUS',\n",
              " 3: 'CHAS',\n",
              " 4: 'NOX',\n",
              " 5: 'RM',\n",
              " 6: 'AGE',\n",
              " 7: 'DIS',\n",
              " 8: 'RAD',\n",
              " 9: 'TAX',\n",
              " 10: 'PTRATIO',\n",
              " 11: 'B',\n",
              " 12: 'LSTAT'}"
            ]
          },
          "metadata":{
            
          },
          "output_type":"display_data"
        }
      ],
      "metadata":{
        
      }
    },
    {
      "cell_type":"code",
      "source":[
        "df_importances.sort_values(by=1)"
      ],
      "execution_count":70,
      "outputs":[
        {
          "data":{
            "text\/html":[
              "<div>\n",
              "<style scoped>\n",
              "    .dataframe tbody tr th:only-of-type {\n",
              "        vertical-align: middle;\n",
              "    }\n",
              "\n",
              "    .dataframe tbody tr th {\n",
              "        vertical-align: top;\n",
              "    }\n",
              "\n",
              "    .dataframe thead th {\n",
              "        text-align: right;\n",
              "    }\n",
              "<\/style>\n",
              "<table border=\"1\" class=\"dataframe\">\n",
              "  <thead>\n",
              "    <tr style=\"text-align: right;\">\n",
              "      <th><\/th>\n",
              "      <th>0<\/th>\n",
              "      <th>1<\/th>\n",
              "    <\/tr>\n",
              "  <\/thead>\n",
              "  <tbody>\n",
              "    <tr>\n",
              "      <th>90<\/th>\n",
              "      <td>x8^2<\/td>\n",
              "      <td>-4.337469<\/td>\n",
              "    <\/tr>\n",
              "    <tr>\n",
              "      <th>13<\/th>\n",
              "      <td>x12<\/td>\n",
              "      <td>-3.223707<\/td>\n",
              "    <\/tr>\n",
              "    <tr>\n",
              "      <th>8<\/th>\n",
              "      <td>x7<\/td>\n",
              "      <td>-2.752451<\/td>\n",
              "    <\/tr>\n",
              "    <tr>\n",
              "      <th>73<\/th>\n",
              "      <td>x5 x9<\/td>\n",
              "      <td>-2.180364<\/td>\n",
              "    <\/tr>\n",
              "    <tr>\n",
              "      <th>66<\/th>\n",
              "      <td>x4 x10<\/td>\n",
              "      <td>-1.937812<\/td>\n",
              "    <\/tr>\n",
              "    <tr>\n",
              "      <th>...<\/th>\n",
              "      <td>...<\/td>\n",
              "      <td>...<\/td>\n",
              "    <\/tr>\n",
              "    <tr>\n",
              "      <th>41<\/th>\n",
              "      <td>x2 x4<\/td>\n",
              "      <td>2.237398<\/td>\n",
              "    <\/tr>\n",
              "    <tr>\n",
              "      <th>79<\/th>\n",
              "      <td>x6 x8<\/td>\n",
              "      <td>2.983372<\/td>\n",
              "    <\/tr>\n",
              "    <tr>\n",
              "      <th>6<\/th>\n",
              "      <td>x5<\/td>\n",
              "      <td>3.436462<\/td>\n",
              "    <\/tr>\n",
              "    <tr>\n",
              "      <th>91<\/th>\n",
              "      <td>x8 x9<\/td>\n",
              "      <td>3.922790<\/td>\n",
              "    <\/tr>\n",
              "    <tr>\n",
              "      <th>17<\/th>\n",
              "      <td>x0 x3<\/td>\n",
              "      <td>4.976581<\/td>\n",
              "    <\/tr>\n",
              "  <\/tbody>\n",
              "<\/table>\n",
              "<p>105 rows × 2 columns<\/p>\n",
              "<\/div>"
            ]
          },
          "metadata":{
            
          },
          "output_type":"display_data"
        }
      ],
      "metadata":{
        
      }
    },
    {
      "cell_type":"markdown",
      "source":[
        "## Grid Search CV"
      ],
      "attachments":{
        
      },
      "metadata":{
        
      }
    },
    {
      "cell_type":"markdown",
      "source":[
        "To do cross-validation, we used two techniques:\n",
        "- use `KFolds` and manually create a loop to do cross-validation\n",
        "- use `cross_val_predict` and `score` to get a cross-valiated score in a couple of lines.\n",
        "\n",
        "To do hyper-parameter tuning, we see a general pattern:\n",
        "- use `cross_val_predict` and `score` in a manually written loop over hyperparemeters, then select the best one.\n",
        "\n",
        "Perhaps not surprisingly, there is a function that does this for us -- `GridSearchCV`"
      ],
      "attachments":{
        
      },
      "metadata":{
        
      }
    },
    {
      "cell_type":"code",
      "source":[
        "from sklearn.model_selection import GridSearchCV\n",
        "\n",
        "# Same estimator as before\n",
        "estimator = Pipeline([(\"scaler\", StandardScaler()),\n",
        "        (\"polynomial_features\", PolynomialFeatures()),\n",
        "        (\"ridge_regression\", Ridge())])\n",
        "\n",
        "params = {\n",
        "    'polynomial_features__degree': [1, 2, 3],\n",
        "    'ridge_regression__alpha': np.geomspace(4, 20, 30)\n",
        "}\n",
        "\n",
        "grid = GridSearchCV(estimator, params, cv=kf)"
      ],
      "execution_count":74,
      "outputs":[
        
      ],
      "metadata":{
        
      }
    },
    {
      "cell_type":"code",
      "source":[
        "grid.fit(X,y)"
      ],
      "execution_count":75,
      "outputs":[
        {
          "data":{
            "text\/plain":[
              "GridSearchCV(cv=KFold(n_splits=3, random_state=98625, shuffle=True),\n",
              "             estimator=Pipeline(steps=[('scaler', StandardScaler()),\n",
              "                                       ('polynomial_features',\n",
              "                                        PolynomialFeatures()),\n",
              "                                       ('ridge_regression', Ridge())]),\n",
              "             param_grid={'polynomial_features__degree': [1, 2, 3],\n",
              "                         'ridge_regression__alpha': array([ 4.        ,  4.22826702,  4.46956049,  4.7246238 ,  4.99424274,\n",
              "        5.27924796,  5.58051751,  5.89897953,  6.23561514,  6.59146146,\n",
              "        6.96761476,  7.36523392,  7.78554391,  8.22983963,  8.69948987,\n",
              "        9.19594151,  9.72072404, 10.27545421, 10.86184103, 11.48169104,\n",
              "       12.13691388, 12.82952815, 13.56166768, 14.33558803, 15.15367351,\n",
              "       16.01844446, 16.93256509, 17.89885162, 18.92028098, 20.        ])})"
            ]
          },
          "metadata":{
            
          },
          "output_type":"display_data"
        }
      ],
      "metadata":{
        
      }
    },
    {
      "cell_type":"code",
      "source":[
        "grid.best_score_, grid.best_params_"
      ],
      "execution_count":76,
      "outputs":[
        {
          "data":{
            "text\/plain":[
              "(0.8298266736008965,\n",
              " {'polynomial_features__degree': 2,\n",
              "  'ridge_regression__alpha': 20.000000000000004})"
            ]
          },
          "metadata":{
            
          },
          "output_type":"display_data"
        }
      ],
      "metadata":{
        
      }
    },
    {
      "cell_type":"code",
      "source":[
        "y_predic = grid.predict(X)"
      ],
      "execution_count":79,
      "outputs":[
        
      ],
      "metadata":{
        
      }
    },
    {
      "cell_type":"code",
      "source":[
        "r2_score(y, y_predic)"
      ],
      "execution_count":80,
      "outputs":[
        {
          "data":{
            "text\/plain":[
              "0.9121832001203924"
            ]
          },
          "metadata":{
            
          },
          "output_type":"display_data"
        }
      ],
      "metadata":{
        
      }
    },
    {
      "cell_type":"code",
      "source":[
        "# Notice that \"grid\" is a fit object!\n",
        "# We can use grid.predict(X_test) to get brand new predictions!\n",
        "grid.best_estimator_.named_steps['ridge_regression'].coef_"
      ],
      "execution_count":81,
      "outputs":[
        {
          "data":{
            "text\/html":[
              
            ]
          },
          "metadata":{
            
          },
          "output_type":"display_data"
        }
      ],
      "metadata":{
        
      }
    },
    {
      "cell_type":"code",
      "source":[
        "grid.cv_results_"
      ],
      "execution_count":82,
      "outputs":[
        {
          "data":{
            "text\/plain":[
              "{'mean_fit_time': array([0.00535822, 0.00486199, 0.00494242, 0.00497516, 0.00489744,\n",
              "        0.00492748, 0.00504112, 0.0049696 , 0.00514221, 0.00539899,\n",
              "        0.00522455, 0.00518401, 0.00520047, 0.00517011, 0.00523758,\n",
              "        0.00521898, 0.00515556, 0.00523408, 0.00531554, 0.00518791,\n",
              "        0.00516311, 0.00522685, 0.00520404, 0.00516653, 0.00523655,\n",
              "        0.00525387, 0.00522741, 0.00523313, 0.00506671, 0.0052348 ,\n",
              "        0.01318391, 0.0136176 , 0.01452812, 0.01411009, 0.01430058,\n",
              "        0.00621819, 0.00610765, 0.00582933, 0.00581233, 0.00582592,\n",
              "        0.00612815, 0.01234023, 0.01367195, 0.01425568, 0.00596428,\n",
              "        0.00594608, 0.00607554, 0.00616471, 0.00575233, 0.0059003 ,\n",
              "        0.01350951, 0.01412964, 0.00723322, 0.00581638, 0.00599265,\n",
              "        0.00626103, 0.00658091, 0.01044385, 0.00619793, 0.00620524,\n",
              "        0.01614141, 0.02496823, 0.02472488, 0.01202361, 0.01194572,\n",
              "        0.01603325, 0.0251507 , 0.01587009, 0.01163753, 0.01130342,\n",
              "        0.01627763, 0.02436074, 0.01154462, 0.01168362, 0.01417255,\n",
              "        0.01929402, 0.01192649, 0.01210411, 0.02296742, 0.02539531,\n",
              "        0.02437131, 0.02434111, 0.02462069, 0.02440691, 0.01511256,\n",
              "        0.01188707, 0.01194739, 0.02060644, 0.01392261, 0.01166217]),\n",
              " 'std_fit_time': array([6.15225920e-04, 1.49810030e-05, 3.02788467e-05, 4.11492940e-05,\n",
              "        5.89459367e-05, 1.64126368e-05, 7.06124297e-05, 1.07049677e-05,\n",
              "        1.85158494e-04, 2.25401535e-04, 6.60938081e-05, 1.21263188e-05,\n",
              "        3.77175546e-05, 2.82288672e-05, 2.63277164e-05, 1.21449560e-04,\n",
              "        1.20523363e-04, 1.58196232e-04, 6.34079878e-05, 4.78639112e-05,\n",
              "        2.90546949e-05, 2.15088270e-05, 7.45556241e-05, 1.00618855e-04,\n",
              "        5.30020225e-05, 4.68589395e-05, 3.64426176e-05, 1.22595741e-04,\n",
              "        1.50286729e-04, 1.70935018e-05, 2.01522973e-03, 8.44506347e-04,\n",
              "        1.68797922e-04, 3.27727187e-04, 6.10677438e-05, 8.78114324e-05,\n",
              "        2.08997001e-05, 9.93918607e-05, 2.18039696e-05, 2.61075299e-05,\n",
              "        7.89916250e-05, 2.13233454e-03, 2.64602687e-04, 2.58001096e-04,\n",
              "        1.21133064e-04, 1.56363977e-04, 1.67318702e-04, 3.62214052e-04,\n",
              "        6.09783191e-05, 1.21196450e-04, 5.19124251e-04, 2.31327462e-04,\n",
              "        1.91150576e-03, 1.30014927e-04, 7.08968290e-05, 3.13755790e-05,\n",
              "        3.90209977e-04, 3.29851711e-03, 1.11539812e-04, 1.02673337e-04,\n",
              "        5.80603931e-03, 8.61451612e-04, 6.44941054e-04, 1.51173966e-04,\n",
              "        2.47331669e-04, 5.48949887e-03, 3.00718349e-04, 6.14100432e-03,\n",
              "        7.52855087e-05, 2.03632451e-04, 6.46547251e-03, 6.44566215e-04,\n",
              "        2.83886510e-04, 1.75185837e-04, 3.82823111e-03, 5.61781630e-03,\n",
              "        2.44034457e-04, 4.40845917e-05, 4.78711664e-03, 3.00738511e-04,\n",
              "        5.71799212e-04, 8.83925577e-04, 5.47110757e-04, 3.25410065e-04,\n",
              "        5.48402217e-03, 5.50035227e-04, 2.16097301e-04, 6.02407004e-03,\n",
              "        3.29710783e-03, 4.56687592e-05]),\n",
              " 'mean_score_time': array([0.00218805, 0.0021805 , 0.00214871, 0.00213051, 0.00211644,\n",
              "        0.00212328, 0.00223478, 0.00224916, 0.00231981, 0.0022862 ,\n",
              "        0.00226633, 0.00227618, 0.00225091, 0.00229836, 0.00223621,\n",
              "        0.00229685, 0.00218256, 0.00233579, 0.00227618, 0.00228643,\n",
              "        0.00224916, 0.00229327, 0.00227173, 0.00224622, 0.0022819 ,\n",
              "        0.00231179, 0.00228993, 0.00222325, 0.00221308, 0.00223565,\n",
              "        0.00515389, 0.00522812, 0.00495696, 0.00502928, 0.00515095,\n",
              "        0.00253153, 0.00247796, 0.00239436, 0.00237123, 0.00237838,\n",
              "        0.00244292, 0.00467507, 0.00474342, 0.00489958, 0.00238482,\n",
              "        0.00238514, 0.00249728, 0.00239603, 0.00252032, 0.00245341,\n",
              "        0.00500997, 0.00477274, 0.00244172, 0.00243314, 0.00239245,\n",
              "        0.00247089, 0.00328469, 0.00345159, 0.00263445, 0.00263262,\n",
              "        0.00455674, 0.00718602, 0.0072813 , 0.00335852, 0.00334104,\n",
              "        0.00529297, 0.00738843, 0.00438476, 0.00320681, 0.00314252,\n",
              "        0.00497707, 0.00680542, 0.00329884, 0.00322906, 0.00455284,\n",
              "        0.00465083, 0.00318797, 0.00335805, 0.0068047 , 0.00776625,\n",
              "        0.00683641, 0.00688473, 0.00684444, 0.00683395, 0.00344825,\n",
              "        0.00329208, 0.0035073 , 0.00598772, 0.00319401, 0.00330997]),\n",
              " 'std_score_time': array([1.80594096e-05, 3.48761825e-05, 3.09377135e-05, 7.62194031e-06,\n",
              "        4.93628189e-06, 6.86141259e-06, 8.63927376e-05, 5.73416372e-05,\n",
              "        1.10690089e-04, 3.41535481e-05, 4.29375615e-05, 3.75461954e-06,\n",
              "        2.12856746e-05, 4.77627259e-05, 9.78065223e-06, 9.63622762e-06,\n",
              "        4.95246653e-05, 3.40045413e-05, 2.35210129e-05, 7.92420533e-06,\n",
              "        2.53549562e-05, 1.96771976e-05, 2.89998632e-05, 1.06452108e-05,\n",
              "        4.25058716e-05, 6.44672356e-05, 2.18551809e-05, 3.70600956e-05,\n",
              "        4.73008414e-05, 6.32895430e-06, 1.96034690e-04, 4.52858642e-05,\n",
              "        1.36172843e-04, 4.91143559e-05, 1.03161772e-05, 1.92750768e-05,\n",
              "        4.21591349e-05, 1.72655588e-05, 2.20845911e-05, 2.21890160e-05,\n",
              "        1.41524183e-05, 1.82400065e-04, 1.06972181e-04, 2.26921750e-04,\n",
              "        5.98344611e-05, 3.18845668e-05, 1.64201275e-04, 1.27686944e-05,\n",
              "        2.46599046e-05, 5.75974856e-05, 2.53097714e-04, 4.29834308e-05,\n",
              "        8.59309276e-05, 8.09014195e-05, 1.86813631e-05, 6.84836589e-05,\n",
              "        1.04593143e-03, 1.16727892e-03, 2.03102529e-05, 1.22052306e-05,\n",
              "        1.78504380e-03, 3.23336753e-04, 3.51129190e-04, 4.27371907e-05,\n",
              "        7.38293029e-05, 1.67511279e-03, 4.87544808e-04, 1.58795638e-03,\n",
              "        2.27364615e-05, 1.23291122e-04, 1.41411959e-03, 3.36682885e-04,\n",
              "        1.61105855e-04, 2.13817501e-04, 1.82150958e-03, 1.49682087e-03,\n",
              "        2.73689114e-05, 8.97253162e-05, 7.68117420e-05, 6.56013678e-05,\n",
              "        2.23384595e-04, 2.01802452e-04, 4.55014028e-04, 3.02913367e-04,\n",
              "        6.09021426e-05, 1.47285702e-04, 1.53747061e-04, 1.05702596e-03,\n",
              "        8.83076870e-05, 2.45580627e-04]),\n",
              " 'param_polynomial_features__degree': masked_array(data=[1, 1, 1, 1, 1, 1, 1, 1, 1, 1, 1, 1, 1, 1, 1, 1, 1, 1,\n",
              "                    1, 1, 1, 1, 1, 1, 1, 1, 1, 1, 1, 1, 2, 2, 2, 2, 2, 2,\n",
              "                    2, 2, 2, 2, 2, 2, 2, 2, 2, 2, 2, 2, 2, 2, 2, 2, 2, 2,\n",
              "                    2, 2, 2, 2, 2, 2, 3, 3, 3, 3, 3, 3, 3, 3, 3, 3, 3, 3,\n",
              "                    3, 3, 3, 3, 3, 3, 3, 3, 3, 3, 3, 3, 3, 3, 3, 3, 3, 3],\n",
              "              mask=[False, False, False, False, False, False, False, False,\n",
              "                    False, False, False, False, False, False, False, False,\n",
              "                    False, False, False, False, False, False, False, False,\n",
              "                    False, False, False, False, False, False, False, False,\n",
              "                    False, False, False, False, False, False, False, False,\n",
              "                    False, False, False, False, False, False, False, False,\n",
              "                    False, False, False, False, False, False, False, False,\n",
              "                    False, False, False, False, False, False, False, False,\n",
              "                    False, False, False, False, False, False, False, False,\n",
              "                    False, False, False, False, False, False, False, False,\n",
              "                    False, False, False, False, False, False, False, False,\n",
              "                    False, False],\n",
              "        fill_value='?',\n",
              "             dtype=object),\n",
              " 'param_ridge_regression__alpha': masked_array(data=[4.0, 4.228267015769416, 4.4695604891609,\n",
              "                    4.724623797826311, 4.994242741567055,\n",
              "                    5.279247963228449, 5.58051750774668, 5.898979527232258,\n",
              "                    6.235615140423803, 6.591461455321584,\n",
              "                    6.9676147643129305, 7.365233921633089,\n",
              "                    7.785543913566802, 8.229839632389709,\n",
              "                    8.699489865676323, 9.195941513264877,\n",
              "                    9.720724044870641, 10.275454212080797,\n",
              "                    10.861841029247536, 11.481691038624568,\n",
              "                    12.136913875967887, 12.82952815374728,\n",
              "                    13.561667680093686, 14.335588032641558,\n",
              "                    15.153673507519274, 16.018444464895637,\n",
              "                    16.932565093713098, 17.898851619528912,\n",
              "                    18.920280980751272, 20.000000000000004, 4.0,\n",
              "                    4.228267015769416, 4.4695604891609, 4.724623797826311,\n",
              "                    4.994242741567055, 5.279247963228449, 5.58051750774668,\n",
              "                    5.898979527232258, 6.235615140423803,\n",
              "                    6.591461455321584, 6.9676147643129305,\n",
              "                    7.365233921633089, 7.785543913566802,\n",
              "                    8.229839632389709, 8.699489865676323,\n",
              "                    9.195941513264877, 9.720724044870641,\n",
              "                    10.275454212080797, 10.861841029247536,\n",
              "                    11.481691038624568, 12.136913875967887,\n",
              "                    12.82952815374728, 13.561667680093686,\n",
              "                    14.335588032641558, 15.153673507519274,\n",
              "                    16.018444464895637, 16.932565093713098,\n",
              "                    17.898851619528912, 18.920280980751272,\n",
              "                    20.000000000000004, 4.0, 4.228267015769416,\n",
              "                    4.4695604891609, 4.724623797826311, 4.994242741567055,\n",
              "                    5.279247963228449, 5.58051750774668, 5.898979527232258,\n",
              "                    6.235615140423803, 6.591461455321584,\n",
              "                    6.9676147643129305, 7.365233921633089,\n",
              "                    7.785543913566802, 8.229839632389709,\n",
              "                    8.699489865676323, 9.195941513264877,\n",
              "                    9.720724044870641, 10.275454212080797,\n",
              "                    10.861841029247536, 11.481691038624568,\n",
              "                    12.136913875967887, 12.82952815374728,\n",
              "                    13.561667680093686, 14.335588032641558,\n",
              "                    15.153673507519274, 16.018444464895637,\n",
              "                    16.932565093713098, 17.898851619528912,\n",
              "                    18.920280980751272, 20.000000000000004],\n",
              "              mask=[False, False, False, False, False, False, False, False,\n",
              "                    False, False, False, False, False, False, False, False,\n",
              "                    False, False, False, False, False, False, False, False,\n",
              "                    False, False, False, False, False, False, False, False,\n",
              "                    False, False, False, False, False, False, False, False,\n",
              "                    False, False, False, False, False, False, False, False,\n",
              "                    False, False, False, False, False, False, False, False,\n",
              "                    False, False, False, False, False, False, False, False,\n",
              "                    False, False, False, False, False, False, False, False,\n",
              "                    False, False, False, False, False, False, False, False,\n",
              "                    False, False, False, False, False, False, False, False,\n",
              "                    False, False],\n",
              "        fill_value='?',\n",
              "             dtype=object),\n",
              " 'params': [{'polynomial_features__degree': 1, 'ridge_regression__alpha': 4.0},\n",
              "  {'polynomial_features__degree': 1,\n",
              "   'ridge_regression__alpha': 4.228267015769416},\n",
              "  {'polynomial_features__degree': 1,\n",
              "   'ridge_regression__alpha': 4.4695604891609},\n",
              "  {'polynomial_features__degree': 1,\n",
              "   'ridge_regression__alpha': 4.724623797826311},\n",
              "  {'polynomial_features__degree': 1,\n",
              "   'ridge_regression__alpha': 4.994242741567055},\n",
              "  {'polynomial_features__degree': 1,\n",
              "   'ridge_regression__alpha': 5.279247963228449},\n",
              "  {'polynomial_features__degree': 1,\n",
              "   'ridge_regression__alpha': 5.58051750774668},\n",
              "  {'polynomial_features__degree': 1,\n",
              "   'ridge_regression__alpha': 5.898979527232258},\n",
              "  {'polynomial_features__degree': 1,\n",
              "   'ridge_regression__alpha': 6.235615140423803},\n",
              "  {'polynomial_features__degree': 1,\n",
              "   'ridge_regression__alpha': 6.591461455321584},\n",
              "  {'polynomial_features__degree': 1,\n",
              "   'ridge_regression__alpha': 6.9676147643129305},\n",
              "  {'polynomial_features__degree': 1,\n",
              "   'ridge_regression__alpha': 7.365233921633089},\n",
              "  {'polynomial_features__degree': 1,\n",
              "   'ridge_regression__alpha': 7.785543913566802},\n",
              "  {'polynomial_features__degree': 1,\n",
              "   'ridge_regression__alpha': 8.229839632389709},\n",
              "  {'polynomial_features__degree': 1,\n",
              "   'ridge_regression__alpha': 8.699489865676323},\n",
              "  {'polynomial_features__degree': 1,\n",
              "   'ridge_regression__alpha': 9.195941513264877},\n",
              "  {'polynomial_features__degree': 1,\n",
              "   'ridge_regression__alpha': 9.720724044870641},\n",
              "  {'polynomial_features__degree': 1,\n",
              "   'ridge_regression__alpha': 10.275454212080797},\n",
              "  {'polynomial_features__degree': 1,\n",
              "   'ridge_regression__alpha': 10.861841029247536},\n",
              "  {'polynomial_features__degree': 1,\n",
              "   'ridge_regression__alpha': 11.481691038624568},\n",
              "  {'polynomial_features__degree': 1,\n",
              "   'ridge_regression__alpha': 12.136913875967887},\n",
              "  {'polynomial_features__degree': 1,\n",
              "   'ridge_regression__alpha': 12.82952815374728},\n",
              "  {'polynomial_features__degree': 1,\n",
              "   'ridge_regression__alpha': 13.561667680093686},\n",
              "  {'polynomial_features__degree': 1,\n",
              "   'ridge_regression__alpha': 14.335588032641558},\n",
              "  {'polynomial_features__degree': 1,\n",
              "   'ridge_regression__alpha': 15.153673507519274},\n",
              "  {'polynomial_features__degree': 1,\n",
              "   'ridge_regression__alpha': 16.018444464895637},\n",
              "  {'polynomial_features__degree': 1,\n",
              "   'ridge_regression__alpha': 16.932565093713098},\n",
              "  {'polynomial_features__degree': 1,\n",
              "   'ridge_regression__alpha': 17.898851619528912},\n",
              "  {'polynomial_features__degree': 1,\n",
              "   'ridge_regression__alpha': 18.920280980751272},\n",
              "  {'polynomial_features__degree': 1,\n",
              "   'ridge_regression__alpha': 20.000000000000004},\n",
              "  {'polynomial_features__degree': 2, 'ridge_regression__alpha': 4.0},\n",
              "  {'polynomial_features__degree': 2,\n",
              "   'ridge_regression__alpha': 4.228267015769416},\n",
              "  {'polynomial_features__degree': 2,\n",
              "   'ridge_regression__alpha': 4.4695604891609},\n",
              "  {'polynomial_features__degree': 2,\n",
              "   'ridge_regression__alpha': 4.724623797826311},\n",
              "  {'polynomial_features__degree': 2,\n",
              "   'ridge_regression__alpha': 4.994242741567055},\n",
              "  {'polynomial_features__degree': 2,\n",
              "   'ridge_regression__alpha': 5.279247963228449},\n",
              "  {'polynomial_features__degree': 2,\n",
              "   'ridge_regression__alpha': 5.58051750774668},\n",
              "  {'polynomial_features__degree': 2,\n",
              "   'ridge_regression__alpha': 5.898979527232258},\n",
              "  {'polynomial_features__degree': 2,\n",
              "   'ridge_regression__alpha': 6.235615140423803},\n",
              "  {'polynomial_features__degree': 2,\n",
              "   'ridge_regression__alpha': 6.591461455321584},\n",
              "  {'polynomial_features__degree': 2,\n",
              "   'ridge_regression__alpha': 6.9676147643129305},\n",
              "  {'polynomial_features__degree': 2,\n",
              "   'ridge_regression__alpha': 7.365233921633089},\n",
              "  {'polynomial_features__degree': 2,\n",
              "   'ridge_regression__alpha': 7.785543913566802},\n",
              "  {'polynomial_features__degree': 2,\n",
              "   'ridge_regression__alpha': 8.229839632389709},\n",
              "  {'polynomial_features__degree': 2,\n",
              "   'ridge_regression__alpha': 8.699489865676323},\n",
              "  {'polynomial_features__degree': 2,\n",
              "   'ridge_regression__alpha': 9.195941513264877},\n",
              "  {'polynomial_features__degree': 2,\n",
              "   'ridge_regression__alpha': 9.720724044870641},\n",
              "  {'polynomial_features__degree': 2,\n",
              "   'ridge_regression__alpha': 10.275454212080797},\n",
              "  {'polynomial_features__degree': 2,\n",
              "   'ridge_regression__alpha': 10.861841029247536},\n",
              "  {'polynomial_features__degree': 2,\n",
              "   'ridge_regression__alpha': 11.481691038624568},\n",
              "  {'polynomial_features__degree': 2,\n",
              "   'ridge_regression__alpha': 12.136913875967887},\n",
              "  {'polynomial_features__degree': 2,\n",
              "   'ridge_regression__alpha': 12.82952815374728},\n",
              "  {'polynomial_features__degree': 2,\n",
              "   'ridge_regression__alpha': 13.561667680093686},\n",
              "  {'polynomial_features__degree': 2,\n",
              "   'ridge_regression__alpha': 14.335588032641558},\n",
              "  {'polynomial_features__degree': 2,\n",
              "   'ridge_regression__alpha': 15.153673507519274},\n",
              "  {'polynomial_features__degree': 2,\n",
              "   'ridge_regression__alpha': 16.018444464895637},\n",
              "  {'polynomial_features__degree': 2,\n",
              "   'ridge_regression__alpha': 16.932565093713098},\n",
              "  {'polynomial_features__degree': 2,\n",
              "   'ridge_regression__alpha': 17.898851619528912},\n",
              "  {'polynomial_features__degree': 2,\n",
              "   'ridge_regression__alpha': 18.920280980751272},\n",
              "  {'polynomial_features__degree': 2,\n",
              "   'ridge_regression__alpha': 20.000000000000004},\n",
              "  {'polynomial_features__degree': 3, 'ridge_regression__alpha': 4.0},\n",
              "  {'polynomial_features__degree': 3,\n",
              "   'ridge_regression__alpha': 4.228267015769416},\n",
              "  {'polynomial_features__degree': 3,\n",
              "   'ridge_regression__alpha': 4.4695604891609},\n",
              "  {'polynomial_features__degree': 3,\n",
              "   'ridge_regression__alpha': 4.724623797826311},\n",
              "  {'polynomial_features__degree': 3,\n",
              "   'ridge_regression__alpha': 4.994242741567055},\n",
              "  {'polynomial_features__degree': 3,\n",
              "   'ridge_regression__alpha': 5.279247963228449},\n",
              "  {'polynomial_features__degree': 3,\n",
              "   'ridge_regression__alpha': 5.58051750774668},\n",
              "  {'polynomial_features__degree': 3,\n",
              "   'ridge_regression__alpha': 5.898979527232258},\n",
              "  {'polynomial_features__degree': 3,\n",
              "   'ridge_regression__alpha': 6.235615140423803},\n",
              "  {'polynomial_features__degree': 3,\n",
              "   'ridge_regression__alpha': 6.591461455321584},\n",
              "  {'polynomial_features__degree': 3,\n",
              "   'ridge_regression__alpha': 6.9676147643129305},\n",
              "  {'polynomial_features__degree': 3,\n",
              "   'ridge_regression__alpha': 7.365233921633089},\n",
              "  {'polynomial_features__degree': 3,\n",
              "   'ridge_regression__alpha': 7.785543913566802},\n",
              "  {'polynomial_features__degree': 3,\n",
              "   'ridge_regression__alpha': 8.229839632389709},\n",
              "  {'polynomial_features__degree': 3,\n",
              "   'ridge_regression__alpha': 8.699489865676323},\n",
              "  {'polynomial_features__degree': 3,\n",
              "   'ridge_regression__alpha': 9.195941513264877},\n",
              "  {'polynomial_features__degree': 3,\n",
              "   'ridge_regression__alpha': 9.720724044870641},\n",
              "  {'polynomial_features__degree': 3,\n",
              "   'ridge_regression__alpha': 10.275454212080797},\n",
              "  {'polynomial_features__degree': 3,\n",
              "   'ridge_regression__alpha': 10.861841029247536},\n",
              "  {'polynomial_features__degree': 3,\n",
              "   'ridge_regression__alpha': 11.481691038624568},\n",
              "  {'polynomial_features__degree': 3,\n",
              "   'ridge_regression__alpha': 12.136913875967887},\n",
              "  {'polynomial_features__degree': 3,\n",
              "   'ridge_regression__alpha': 12.82952815374728},\n",
              "  {'polynomial_features__degree': 3,\n",
              "   'ridge_regression__alpha': 13.561667680093686},\n",
              "  {'polynomial_features__degree': 3,\n",
              "   'ridge_regression__alpha': 14.335588032641558},\n",
              "  {'polynomial_features__degree': 3,\n",
              "   'ridge_regression__alpha': 15.153673507519274},\n",
              "  {'polynomial_features__degree': 3,\n",
              "   'ridge_regression__alpha': 16.018444464895637},\n",
              "  {'polynomial_features__degree': 3,\n",
              "   'ridge_regression__alpha': 16.932565093713098},\n",
              "  {'polynomial_features__degree': 3,\n",
              "   'ridge_regression__alpha': 17.898851619528912},\n",
              "  {'polynomial_features__degree': 3,\n",
              "   'ridge_regression__alpha': 18.920280980751272},\n",
              "  {'polynomial_features__degree': 3,\n",
              "   'ridge_regression__alpha': 20.000000000000004}],\n",
              " 'split0_test_score': array([0.66214158, 0.66199996, 0.66185157, 0.66169614, 0.66153342,\n",
              "        0.66136315, 0.66118506, 0.66099889, 0.66080438, 0.66060126,\n",
              "        0.66038927, 0.66016815, 0.65993765, 0.65969749, 0.65944744,\n",
              "        0.65918724, 0.65891665, 0.65863542, 0.65834331, 0.65804009,\n",
              "        0.65772552, 0.65739936, 0.65706139, 0.65671136, 0.65634903,\n",
              "        0.65597416, 0.65558647, 0.65518569, 0.65477152, 0.65434365,\n",
              "        0.69547834, 0.69886313, 0.70220367, 0.70549809, 0.70874454,\n",
              "        0.71194119, 0.71508628, 0.71817807, 0.72121486, 0.72419498,\n",
              "        0.7271168 , 0.72997871, 0.73277913, 0.7355165 , 0.73818928,\n",
              "        0.74079594, 0.74333497, 0.74580487, 0.74820413, 0.75053126,\n",
              "        0.75278476, 0.75496316, 0.75706496, 0.75908869, 0.76103287,\n",
              "        0.76289604, 0.76467676, 0.76637359, 0.76798515, 0.76951005,\n",
              "        0.12861873, 0.13677299, 0.14525009, 0.15404061, 0.16313397,\n",
              "        0.17251843, 0.18218111, 0.19210802, 0.20228405, 0.21269303,\n",
              "        0.22331777, 0.23414011, 0.24514099, 0.25630051, 0.26759807,\n",
              "        0.27901239, 0.29052168, 0.30210375, 0.31373611, 0.32539614,\n",
              "        0.33706118, 0.34870871, 0.36031648, 0.37186263, 0.38332583,\n",
              "        0.39468542, 0.40592149, 0.41701503, 0.42794799, 0.43870337]),\n",
              " 'split1_test_score': array([0.70513646, 0.70525769, 0.70538393, 0.70551528, 0.70565182,\n",
              "        0.70579363, 0.70594076, 0.70609325, 0.70625109, 0.70641429,\n",
              "        0.7065828 , 0.70675656, 0.70693545, 0.70711934, 0.70730803,\n",
              "        0.70750129, 0.70769884, 0.70790034, 0.70810538, 0.70831349,\n",
              "        0.70852414, 0.70873671, 0.7089505 , 0.70916472, 0.7093785 ,\n",
              "        0.70959087, 0.70980073, 0.71000692, 0.71020813, 0.71040295,\n",
              "        0.84432458, 0.84425029, 0.84417286, 0.84409228, 0.84400858,\n",
              "        0.84392178, 0.84383192, 0.84373903, 0.84364316, 0.84354435,\n",
              "        0.84344268, 0.84333819, 0.84323093, 0.84312097, 0.84300834,\n",
              "        0.84289309, 0.84277523, 0.84265475, 0.84253163, 0.84240582,\n",
              "        0.84227721, 0.84214568, 0.84201104, 0.84187306, 0.84173143,\n",
              "        0.8415858 , 0.84143573, 0.84128073, 0.8411202 , 0.84095347,\n",
              "        0.38143748, 0.40331302, 0.42456776, 0.44520609, 0.46523236,\n",
              "        0.48465091, 0.50346612, 0.52168239, 0.53930423, 0.5563363 ,\n",
              "        0.57278343, 0.58865071, 0.60394354, 0.61866766, 0.63282922,\n",
              "        0.64643482, 0.65949155, 0.672007  , 0.68398933, 0.69544723,\n",
              "        0.70638998, 0.7168274 , 0.72676987, 0.73622829, 0.74521409,\n",
              "        0.75373915, 0.76181581, 0.76945678, 0.77667514, 0.78348426]),\n",
              " 'split2_test_score': array([ 0.75248007,  0.75272905,  0.75298356,  0.75324325,  0.75350772,\n",
              "         0.75377651,  0.75404909,  0.7543249 ,  0.75460329,  0.75488356,\n",
              "         0.75516494,  0.7554466 ,  0.75572763,  0.75600707,  0.75628389,\n",
              "         0.756557  ,  0.75682523,  0.75708736,  0.75734212,  0.75758817,\n",
              "         0.75782412,  0.75804851,  0.75825987,  0.75845663,  0.75863722,\n",
              "         0.75879999,  0.75894328,  0.75906537,  0.75916449,  0.75923885,\n",
              "         0.8699213 ,  0.8702959 ,  0.87067605,  0.8710612 ,  0.87145067,\n",
              "         0.87184367,  0.87223929,  0.8726365 ,  0.87303419,  0.87343116,\n",
              "         0.87382614,  0.87421779,  0.87460472,  0.87498549,  0.87535864,\n",
              "         0.87572268,  0.8760761 ,  0.87641739,  0.87674504,  0.87705752,\n",
              "         0.87735333,  0.87763096,  0.8778889 ,  0.87812565,  0.87833972,\n",
              "         0.8785296 ,  0.87869376,  0.87883067,  0.87893879,  0.87901651,\n",
              "        -0.64019491, -0.49103881, -0.35453872, -0.22985605, -0.11618241,\n",
              "        -0.01274123,  0.08121099,  0.16638369,  0.24345167,  0.31305468,\n",
              "         0.37579739,  0.43224952,  0.48294633,  0.52838914,  0.5690462 ,\n",
              "         0.60535359,  0.63771632,  0.66650951,  0.69207964,  0.71474589,\n",
              "         0.73480152,  0.75251524,  0.76813262,  0.7818775 ,  0.79395335,\n",
              "         0.80454466,  0.81381823,  0.82192448,  0.82899864,  0.83516201]),\n",
              " 'mean_test_score': array([ 0.70658603,  0.70666223,  0.70673969,  0.70681822,  0.70689766,\n",
              "         0.70697776,  0.70705831,  0.70713901,  0.70721959,  0.70729971,\n",
              "         0.70737901,  0.7074571 ,  0.70753358,  0.70760797,  0.70767979,\n",
              "         0.70774851,  0.70781357,  0.70787437,  0.70793027,  0.70798058,\n",
              "         0.70802459,  0.70806153,  0.70809058,  0.7081109 ,  0.70812158,\n",
              "         0.70812167,  0.70811016,  0.70808599,  0.70804805,  0.70799515,\n",
              "         0.80324141,  0.80446977,  0.80568419,  0.80688386,  0.80806793,\n",
              "         0.80923555,  0.81038583,  0.81151787,  0.81263073,  0.8137235 ,\n",
              "         0.81479521,  0.81584489,  0.81687159,  0.81787432,  0.81885209,\n",
              "         0.8198039 ,  0.82072877,  0.82162567,  0.8224936 ,  0.82333153,\n",
              "         0.82413844,  0.82491327,  0.82565497,  0.82636247,  0.82703467,\n",
              "         0.82767048,  0.82826875,  0.82882833,  0.82934804,  0.82982667,\n",
              "        -0.04337957,  0.01634907,  0.07175971,  0.12313022,  0.17072797,\n",
              "         0.21480937,  0.25561941,  0.29339137,  0.32834665,  0.36069467,\n",
              "         0.39063286,  0.41834678,  0.44401028,  0.46778577,  0.4898245 ,\n",
              "         0.51026693,  0.52924318,  0.54687342,  0.56326836,  0.57852975,\n",
              "         0.59275089,  0.60601712,  0.61840632,  0.62998947,  0.64083109,\n",
              "         0.65098974,  0.66051851,  0.66946543,  0.67787392,  0.68578322]),\n",
              " 'std_test_score': array([0.03689478, 0.03705331, 0.03721683, 0.0373853 , 0.03755868,\n",
              "        0.03773688, 0.03791982, 0.03810736, 0.03829937, 0.03849568,\n",
              "        0.0386961 , 0.03890042, 0.03910838, 0.03931974, 0.03953419,\n",
              "        0.03975142, 0.03997109, 0.04019284, 0.04041629, 0.04064102,\n",
              "        0.04086661, 0.04109262, 0.04131858, 0.04154402, 0.04176843,\n",
              "        0.04199132, 0.04221217, 0.04243045, 0.04264561, 0.04285712,\n",
              "        0.07691318, 0.0754284 , 0.07396742, 0.07253108, 0.07112018,\n",
              "        0.06973546, 0.06837762, 0.06704727, 0.06574499, 0.0644713 ,\n",
              "        0.06322666, 0.0620115 , 0.06082618, 0.05967101, 0.05854629,\n",
              "        0.05745224, 0.05638904, 0.05535687, 0.05435582, 0.05338599,\n",
              "        0.05244739, 0.05154004, 0.05066391, 0.0498189 , 0.0490049 ,\n",
              "        0.04822176, 0.04746926, 0.04674716, 0.04605515, 0.04539288,\n",
              "        0.43445042, 0.37491576, 0.32228596, 0.27645833, 0.23742232,\n",
              "        0.20524965, 0.18003655, 0.16176738, 0.15011333, 0.14427947,\n",
              "        0.14305391, 0.14506184, 0.14904547, 0.15401745, 0.15928069,\n",
              "        0.16437947, 0.16903551, 0.17309284, 0.17647685, 0.17916581,\n",
              "        0.18117161, 0.18252693, 0.18327665, 0.18347218, 0.18316768,\n",
              "        0.18241753, 0.18127474, 0.17978991, 0.17801061, 0.17598103]),\n",
              " 'rank_test_score': array([60, 59, 58, 57, 56, 55, 54, 53, 52, 51, 50, 49, 48, 47, 46, 45, 44,\n",
              "        43, 42, 41, 39, 37, 35, 33, 32, 31, 34, 36, 38, 40, 30, 29, 28, 27,\n",
              "        26, 25, 24, 23, 22, 21, 20, 19, 18, 17, 16, 15, 14, 13, 12, 11, 10,\n",
              "         9,  8,  7,  6,  5,  4,  3,  2,  1, 90, 89, 88, 87, 86, 85, 84, 83,\n",
              "        82, 81, 80, 79, 78, 77, 76, 75, 74, 73, 72, 71, 70, 69, 68, 67, 66,\n",
              "        65, 64, 63, 62, 61], dtype=int32)}"
            ]
          },
          "metadata":{
            
          },
          "output_type":"display_data"
        }
      ],
      "metadata":{
        
      }
    },
    {
      "cell_type":"markdown",
      "source":[
        "## Summary\n",
        "\n",
        "1. We can manually generate folds by using `KFolds`\n",
        "2. We can get a score using `cross_val_predict(X, y, cv=KFoldObject_or_integer)`. \n",
        "   This will produce the out-of-bag prediction for each row.\n",
        "3. When doing hyperparameter selection, we should be optimizing on out-of-bag scores. This means either using `cross_val_predict` in a loop, or ....\n",
        "4. .... use `GridSearchCV`. GridSearchCV takes a model (or pipeline) and a dictionary of parameters to scan over. It finds the hyperparameter set that has the best out-of-sample score on all the parameters, and calls that it's \"best estimator\". It then retrains on all data with the \"best\" hyper-parameters.\n",
        "\n",
        "### Extensions\n",
        "\n",
        "Here are some additional items to keep in mind:\n",
        "* There is a `RandomSearchCV` that tries random combination of model parameters. This can be helpful if you have a prohibitive number of combinations to test them all exhaustively.\n",
        "* KFolds will randomly select rows to be in the training and test folds. There are other methods (such as `StratifiedKFolds` and `GroupKFold`, which are useful when you need more control over how the data is split (e.g. to prevent data leakage). You can create these specialized objects and pass them to the `cv` argument of `GridSearchCV`."
      ],
      "attachments":{
        
      },
      "metadata":{
        
      }
    }
  ],
  "metadata":{
    
  },
  "nbformat":4,
  "nbformat_minor":0
}